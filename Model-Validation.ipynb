{
 "cells": [
  {
   "cell_type": "markdown",
   "metadata": {},
   "source": [
    "# Model Validation Methods"
   ]
  },
  {
   "cell_type": "markdown",
   "metadata": {},
   "source": [
    "#### 1.Evaluate using a train and a test set"
   ]
  },
  {
   "cell_type": "code",
   "execution_count": 3,
   "metadata": {
    "ExecuteTime": {
     "end_time": "2021-08-26T07:14:19.982368Z",
     "start_time": "2021-08-26T07:14:18.475053Z"
    },
    "execution": {
     "iopub.execute_input": "2021-08-26T06:59:27.935877Z",
     "iopub.status.busy": "2021-08-26T06:59:27.935386Z",
     "iopub.status.idle": "2021-08-26T06:59:29.077016Z",
     "shell.execute_reply": "2021-08-26T06:59:29.075807Z",
     "shell.execute_reply.started": "2021-08-26T06:59:27.935846Z"
    }
   },
   "outputs": [
    {
     "name": "stderr",
     "output_type": "stream",
     "text": [
      "C:\\Users\\Hp\\anaconda3\\lib\\site-packages\\sklearn\\linear_model\\_logistic.py:763: ConvergenceWarning: lbfgs failed to converge (status=1):\n",
      "STOP: TOTAL NO. of ITERATIONS REACHED LIMIT.\n",
      "\n",
      "Increase the number of iterations (max_iter) or scale the data as shown in:\n",
      "    https://scikit-learn.org/stable/modules/preprocessing.html\n",
      "Please also refer to the documentation for alternative solver options:\n",
      "    https://scikit-learn.org/stable/modules/linear_model.html#logistic-regression\n",
      "  n_iter_i = _check_optimize_result(\n"
     ]
    }
   ],
   "source": [
    "# Evaluate using a train and a test set\n",
    "from pandas import read_csv\n",
    "from sklearn.model_selection import train_test_split\n",
    "from sklearn.linear_model import LogisticRegression\n",
    "filename = r'C:\\Users\\Hp\\OneDrive\\Documents\\ExcelR\\Python Intro\\Feature Engineering\\pima-indians-diabetes.data.csv'\n",
    "names = ['preg', 'plas', 'pres', 'skin', 'test', 'mass', 'pedi', 'age', 'class']\n",
    "dataframe = read_csv(filename, names=names)\n",
    "array = dataframe.values\n",
    "X = array[:,0:8]\n",
    "Y = array[:,8]\n",
    "test_size = 0.33\n",
    "seed = 7\n",
    "X_train, X_test, Y_train, Y_test = train_test_split(X, Y, test_size=test_size,\n",
    "random_state=seed)\n",
    "model = LogisticRegression()\n",
    "model.fit(X_train, Y_train)\n",
    "result = model.score(X_test, Y_test)\n"
   ]
  },
  {
   "cell_type": "code",
   "execution_count": 4,
   "metadata": {
    "ExecuteTime": {
     "end_time": "2021-08-26T07:14:32.621581Z",
     "start_time": "2021-08-26T07:14:32.595229Z"
    },
    "execution": {
     "iopub.execute_input": "2021-08-26T06:59:29.079969Z",
     "iopub.status.busy": "2021-08-26T06:59:29.079304Z",
     "iopub.status.idle": "2021-08-26T06:59:29.088865Z",
     "shell.execute_reply": "2021-08-26T06:59:29.087994Z",
     "shell.execute_reply.started": "2021-08-26T06:59:29.079918Z"
    }
   },
   "outputs": [
    {
     "data": {
      "text/plain": [
       "78.74015748031496"
      ]
     },
     "execution_count": 4,
     "metadata": {},
     "output_type": "execute_result"
    }
   ],
   "source": [
    "result*100.0"
   ]
  },
  {
   "cell_type": "markdown",
   "metadata": {},
   "source": [
    "#### 2.Evaluate using Cross Validation"
   ]
  },
  {
   "cell_type": "code",
   "execution_count": 15,
   "metadata": {
    "ExecuteTime": {
     "end_time": "2021-08-26T07:24:46.677168Z",
     "start_time": "2021-08-26T07:24:45.849710Z"
    },
    "execution": {
     "iopub.execute_input": "2021-08-26T06:59:29.091558Z",
     "iopub.status.busy": "2021-08-26T06:59:29.090750Z",
     "iopub.status.idle": "2021-08-26T06:59:29.556132Z",
     "shell.execute_reply": "2021-08-26T06:59:29.555175Z",
     "shell.execute_reply.started": "2021-08-26T06:59:29.091524Z"
    }
   },
   "outputs": [],
   "source": [
    "# Evaluate using Cross Validation\n",
    "from pandas import read_csv\n",
    "from sklearn.model_selection import KFold\n",
    "from sklearn.model_selection import cross_val_score\n",
    "from sklearn.linear_model import LogisticRegression\n",
    "filename = r'C:\\Users\\Hp\\OneDrive\\Documents\\ExcelR\\Python Intro\\Feature Engineering\\pima-indians-diabetes.data.csv'\n",
    "names = ['preg', 'plas', 'pres', 'skin', 'test', 'mass', 'pedi', 'age', 'class']\n",
    "dataframe = read_csv(filename, names=names)\n",
    "array = dataframe.values\n",
    "X = array[:,0:8]\n",
    "Y = array[:,8]\n",
    "num_folds = 10\n",
    "seed = 7\n",
    "kfold = KFold(n_splits=num_folds,)\n",
    "model = LogisticRegression(max_iter=400)\n",
    "results = cross_val_score(model, X, Y, cv=kfold)\n"
   ]
  },
  {
   "cell_type": "code",
   "execution_count": 16,
   "metadata": {
    "ExecuteTime": {
     "end_time": "2021-08-26T07:24:47.850938Z",
     "start_time": "2021-08-26T07:24:47.830469Z"
    },
    "execution": {
     "iopub.execute_input": "2021-08-26T06:59:29.557713Z",
     "iopub.status.busy": "2021-08-26T06:59:29.557402Z",
     "iopub.status.idle": "2021-08-26T06:59:29.563788Z",
     "shell.execute_reply": "2021-08-26T06:59:29.562911Z",
     "shell.execute_reply.started": "2021-08-26T06:59:29.557675Z"
    }
   },
   "outputs": [
    {
     "data": {
      "text/plain": [
       "77.60423786739577"
      ]
     },
     "execution_count": 16,
     "metadata": {},
     "output_type": "execute_result"
    }
   ],
   "source": [
    "results.mean()*100.0"
   ]
  },
  {
   "cell_type": "code",
   "execution_count": 17,
   "metadata": {
    "ExecuteTime": {
     "end_time": "2021-08-26T07:24:48.477163Z",
     "start_time": "2021-08-26T07:24:48.457779Z"
    },
    "execution": {
     "iopub.execute_input": "2021-08-26T06:59:29.567020Z",
     "iopub.status.busy": "2021-08-26T06:59:29.566405Z",
     "iopub.status.idle": "2021-08-26T06:59:29.574821Z",
     "shell.execute_reply": "2021-08-26T06:59:29.573968Z",
     "shell.execute_reply.started": "2021-08-26T06:59:29.566987Z"
    }
   },
   "outputs": [
    {
     "data": {
      "text/plain": [
       "5.157545262086822"
      ]
     },
     "execution_count": 17,
     "metadata": {},
     "output_type": "execute_result"
    }
   ],
   "source": [
    "results.std()*100.0"
   ]
  },
  {
   "cell_type": "markdown",
   "metadata": {},
   "source": [
    "#### 3.Evaluate using Leave One Out Cross Validation"
   ]
  },
  {
   "cell_type": "code",
   "execution_count": 12,
   "metadata": {
    "ExecuteTime": {
     "end_time": "2021-08-26T07:18:12.851319Z",
     "start_time": "2021-08-26T07:16:59.176701Z"
    },
    "execution": {
     "iopub.execute_input": "2021-08-26T06:59:29.576721Z",
     "iopub.status.busy": "2021-08-26T06:59:29.576420Z",
     "iopub.status.idle": "2021-08-26T07:00:06.052531Z",
     "shell.execute_reply": "2021-08-26T07:00:06.051312Z",
     "shell.execute_reply.started": "2021-08-26T06:59:29.576690Z"
    }
   },
   "outputs": [],
   "source": [
    "# Evaluate using Leave One Out Cross Validation\n",
    "from pandas import read_csv\n",
    "from sklearn.model_selection import LeaveOneOut\n",
    "from sklearn.model_selection import cross_val_score\n",
    "from sklearn.linear_model import LogisticRegression\n",
    "filename = r'C:\\Users\\Hp\\OneDrive\\Documents\\ExcelR\\Python Intro\\Feature Engineering\\pima-indians-diabetes.data.csv'\n",
    "names = ['preg', 'plas', 'pres', 'skin', 'test', 'mass', 'pedi', 'age', 'class']\n",
    "dataframe = read_csv(filename, names=names)\n",
    "array = dataframe.values\n",
    "X = array[:,0:8]\n",
    "Y = array[:,8]\n",
    "loocv = LeaveOneOut()\n",
    "model = LogisticRegression(max_iter=300)\n",
    "results = cross_val_score(model, X, Y, cv=loocv)\n"
   ]
  },
  {
   "cell_type": "code",
   "execution_count": 13,
   "metadata": {
    "ExecuteTime": {
     "end_time": "2021-08-26T07:19:18.709648Z",
     "start_time": "2021-08-26T07:19:18.687953Z"
    },
    "execution": {
     "iopub.execute_input": "2021-08-26T07:00:06.054961Z",
     "iopub.status.busy": "2021-08-26T07:00:06.054466Z",
     "iopub.status.idle": "2021-08-26T07:00:06.063004Z",
     "shell.execute_reply": "2021-08-26T07:00:06.061729Z",
     "shell.execute_reply.started": "2021-08-26T07:00:06.054914Z"
    }
   },
   "outputs": [
    {
     "data": {
      "text/plain": [
       "77.60416666666666"
      ]
     },
     "execution_count": 13,
     "metadata": {},
     "output_type": "execute_result"
    }
   ],
   "source": [
    "results.mean()*100.0"
   ]
  },
  {
   "cell_type": "code",
   "execution_count": 14,
   "metadata": {
    "ExecuteTime": {
     "end_time": "2021-08-26T07:19:19.418881Z",
     "start_time": "2021-08-26T07:19:19.406596Z"
    },
    "execution": {
     "iopub.execute_input": "2021-08-26T07:00:06.065556Z",
     "iopub.status.busy": "2021-08-26T07:00:06.064768Z",
     "iopub.status.idle": "2021-08-26T07:00:06.078164Z",
     "shell.execute_reply": "2021-08-26T07:00:06.076877Z",
     "shell.execute_reply.started": "2021-08-26T07:00:06.065504Z"
    }
   },
   "outputs": [
    {
     "data": {
      "text/plain": [
       "41.68944689773287"
      ]
     },
     "execution_count": 14,
     "metadata": {},
     "output_type": "execute_result"
    }
   ],
   "source": [
    "results.std()*100.0"
   ]
  },
  {
   "cell_type": "code",
   "execution_count": null,
   "metadata": {},
   "outputs": [],
   "source": []
  }
 ],
 "metadata": {
  "kernelspec": {
   "display_name": "Python 3",
   "language": "python",
   "name": "python3"
  },
  "language_info": {
   "codemirror_mode": {
    "name": "ipython",
    "version": 3
   },
   "file_extension": ".py",
   "mimetype": "text/x-python",
   "name": "python",
   "nbconvert_exporter": "python",
   "pygments_lexer": "ipython3",
   "version": "3.8.8"
  },
  "toc": {
   "base_numbering": 1,
   "nav_menu": {},
   "number_sections": true,
   "sideBar": true,
   "skip_h1_title": false,
   "title_cell": "Table of Contents",
   "title_sidebar": "Contents",
   "toc_cell": false,
   "toc_position": {},
   "toc_section_display": true,
   "toc_window_display": false
  }
 },
 "nbformat": 4,
 "nbformat_minor": 4
}
