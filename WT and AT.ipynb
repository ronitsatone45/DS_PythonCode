{
 "cells": [
  {
   "cell_type": "markdown",
   "id": "d8807ada",
   "metadata": {},
   "source": [
    "# Import Data Set"
   ]
  },
  {
   "cell_type": "code",
   "execution_count": 2,
   "id": "6643fc11",
   "metadata": {
    "ExecuteTime": {
     "end_time": "2021-08-05T07:45:47.342922Z",
     "start_time": "2021-08-05T07:45:46.030835Z"
    }
   },
   "outputs": [
    {
     "data": {
      "text/html": [
       "<div>\n",
       "<style scoped>\n",
       "    .dataframe tbody tr th:only-of-type {\n",
       "        vertical-align: middle;\n",
       "    }\n",
       "\n",
       "    .dataframe tbody tr th {\n",
       "        vertical-align: top;\n",
       "    }\n",
       "\n",
       "    .dataframe thead th {\n",
       "        text-align: right;\n",
       "    }\n",
       "</style>\n",
       "<table border=\"1\" class=\"dataframe\">\n",
       "  <thead>\n",
       "    <tr style=\"text-align: right;\">\n",
       "      <th></th>\n",
       "      <th>Waist</th>\n",
       "      <th>AT</th>\n",
       "    </tr>\n",
       "  </thead>\n",
       "  <tbody>\n",
       "    <tr>\n",
       "      <th>0</th>\n",
       "      <td>74.75</td>\n",
       "      <td>25.72</td>\n",
       "    </tr>\n",
       "    <tr>\n",
       "      <th>1</th>\n",
       "      <td>72.60</td>\n",
       "      <td>25.89</td>\n",
       "    </tr>\n",
       "    <tr>\n",
       "      <th>2</th>\n",
       "      <td>81.80</td>\n",
       "      <td>42.60</td>\n",
       "    </tr>\n",
       "    <tr>\n",
       "      <th>3</th>\n",
       "      <td>83.95</td>\n",
       "      <td>42.80</td>\n",
       "    </tr>\n",
       "    <tr>\n",
       "      <th>4</th>\n",
       "      <td>74.65</td>\n",
       "      <td>29.84</td>\n",
       "    </tr>\n",
       "  </tbody>\n",
       "</table>\n",
       "</div>"
      ],
      "text/plain": [
       "   Waist     AT\n",
       "0  74.75  25.72\n",
       "1  72.60  25.89\n",
       "2  81.80  42.60\n",
       "3  83.95  42.80\n",
       "4  74.65  29.84"
      ]
     },
     "execution_count": 2,
     "metadata": {},
     "output_type": "execute_result"
    }
   ],
   "source": [
    "import pandas as pd\n",
    "data = pd.read_csv(\"WC_AT - WC_AT.csv\")\n",
    "data.head()"
   ]
  },
  {
   "cell_type": "code",
   "execution_count": 6,
   "id": "63d7a8fc",
   "metadata": {
    "ExecuteTime": {
     "end_time": "2021-08-05T07:46:14.199699Z",
     "start_time": "2021-08-05T07:46:14.183820Z"
    }
   },
   "outputs": [
    {
     "data": {
      "text/plain": [
       "(109, 2)"
      ]
     },
     "execution_count": 6,
     "metadata": {},
     "output_type": "execute_result"
    }
   ],
   "source": [
    "data.shape"
   ]
  },
  {
   "cell_type": "code",
   "execution_count": 7,
   "id": "8ca4d34b",
   "metadata": {
    "ExecuteTime": {
     "end_time": "2021-08-05T07:46:14.881521Z",
     "start_time": "2021-08-05T07:46:14.854727Z"
    }
   },
   "outputs": [
    {
     "name": "stdout",
     "output_type": "stream",
     "text": [
      "<class 'pandas.core.frame.DataFrame'>\n",
      "RangeIndex: 109 entries, 0 to 108\n",
      "Data columns (total 2 columns):\n",
      " #   Column  Non-Null Count  Dtype  \n",
      "---  ------  --------------  -----  \n",
      " 0   Waist   109 non-null    float64\n",
      " 1   AT      109 non-null    float64\n",
      "dtypes: float64(2)\n",
      "memory usage: 1.8 KB\n"
     ]
    }
   ],
   "source": [
    "data.info()"
   ]
  },
  {
   "cell_type": "markdown",
   "id": "5d1fd2a2",
   "metadata": {},
   "source": [
    "# Correaltion"
   ]
  },
  {
   "cell_type": "code",
   "execution_count": 8,
   "id": "62f2c834",
   "metadata": {
    "ExecuteTime": {
     "end_time": "2021-08-05T07:46:16.263818Z",
     "start_time": "2021-08-05T07:46:16.239488Z"
    }
   },
   "outputs": [
    {
     "data": {
      "text/html": [
       "<div>\n",
       "<style scoped>\n",
       "    .dataframe tbody tr th:only-of-type {\n",
       "        vertical-align: middle;\n",
       "    }\n",
       "\n",
       "    .dataframe tbody tr th {\n",
       "        vertical-align: top;\n",
       "    }\n",
       "\n",
       "    .dataframe thead th {\n",
       "        text-align: right;\n",
       "    }\n",
       "</style>\n",
       "<table border=\"1\" class=\"dataframe\">\n",
       "  <thead>\n",
       "    <tr style=\"text-align: right;\">\n",
       "      <th></th>\n",
       "      <th>Waist</th>\n",
       "      <th>AT</th>\n",
       "    </tr>\n",
       "  </thead>\n",
       "  <tbody>\n",
       "    <tr>\n",
       "      <th>Waist</th>\n",
       "      <td>1.000000</td>\n",
       "      <td>0.818558</td>\n",
       "    </tr>\n",
       "    <tr>\n",
       "      <th>AT</th>\n",
       "      <td>0.818558</td>\n",
       "      <td>1.000000</td>\n",
       "    </tr>\n",
       "  </tbody>\n",
       "</table>\n",
       "</div>"
      ],
      "text/plain": [
       "          Waist        AT\n",
       "Waist  1.000000  0.818558\n",
       "AT     0.818558  1.000000"
      ]
     },
     "execution_count": 8,
     "metadata": {},
     "output_type": "execute_result"
    }
   ],
   "source": [
    "data.corr()"
   ]
  },
  {
   "cell_type": "code",
   "execution_count": 9,
   "id": "258ed4c1",
   "metadata": {
    "ExecuteTime": {
     "end_time": "2021-08-05T07:46:19.101450Z",
     "start_time": "2021-08-05T07:46:16.706423Z"
    }
   },
   "outputs": [
    {
     "name": "stderr",
     "output_type": "stream",
     "text": [
      "C:\\Users\\Hp\\anaconda3\\lib\\site-packages\\seaborn\\distributions.py:2557: FutureWarning: `distplot` is a deprecated function and will be removed in a future version. Please adapt your code to use either `displot` (a figure-level function with similar flexibility) or `histplot` (an axes-level function for histograms).\n",
      "  warnings.warn(msg, FutureWarning)\n"
     ]
    },
    {
     "data": {
      "text/plain": [
       "<AxesSubplot:xlabel='AT', ylabel='Density'>"
      ]
     },
     "execution_count": 9,
     "metadata": {},
     "output_type": "execute_result"
    },
    {
     "data": {
      "image/png": "[encoded data removed]",
      "text/plain": [
       "<Figure size 432x288 with 1 Axes>"
      ]
     },
     "metadata": {
      "needs_background": "light"
     },
     "output_type": "display_data"
    }
   ],
   "source": [
    "import seaborn as sns\n",
    "sns.distplot(data[\"AT\"])"
   ]
  },
  {
   "cell_type": "code",
   "execution_count": 10,
   "id": "79368444",
   "metadata": {
    "ExecuteTime": {
     "end_time": "2021-08-05T07:46:19.540903Z",
     "start_time": "2021-08-05T07:46:19.104670Z"
    }
   },
   "outputs": [
    {
     "name": "stderr",
     "output_type": "stream",
     "text": [
      "C:\\Users\\Hp\\anaconda3\\lib\\site-packages\\seaborn\\distributions.py:2557: FutureWarning: `distplot` is a deprecated function and will be removed in a future version. Please adapt your code to use either `displot` (a figure-level function with similar flexibility) or `histplot` (an axes-level function for histograms).\n",
      "  warnings.warn(msg, FutureWarning)\n"
     ]
    },
    {
     "data": {
      "text/plain": [
       "<AxesSubplot:xlabel='Waist', ylabel='Density'>"
      ]
     },
     "execution_count": 10,
     "metadata": {},
     "output_type": "execute_result"
    },
    {
     "data": {
      "image/png": "[encoded data removed]",
      "text/plain": [
       "<Figure size 432x288 with 1 Axes>"
      ]
     },
     "metadata": {
      "needs_background": "light"
     },
     "output_type": "display_data"
    }
   ],
   "source": [
    "sns.distplot(data[\"Waist\"])"
   ]
  },
  {
   "cell_type": "code",
   "execution_count": 11,
   "id": "d9869a0a",
   "metadata": {
    "ExecuteTime": {
     "end_time": "2021-08-05T07:46:19.825043Z",
     "start_time": "2021-08-05T07:46:19.544505Z"
    }
   },
   "outputs": [],
   "source": [
    "import statsmodels.formula.api as smf\n",
    "model=smf.ols(\"AT~Waist\", data=data).fit()"
   ]
  },
  {
   "cell_type": "code",
   "execution_count": 12,
   "id": "c7566304",
   "metadata": {
    "ExecuteTime": {
     "end_time": "2021-08-05T07:46:20.457284Z",
     "start_time": "2021-08-05T07:46:19.829395Z"
    }
   },
   "outputs": [
    {
     "data": {
      "image/png": "[encoded data removed]",
      "text/plain": [
       "<Figure size 432x288 with 1 Axes>"
      ]
     },
     "metadata": {
      "needs_background": "light"
     },
     "output_type": "display_data"
    }
   ],
   "source": [
    "sns.regplot(x='Waist', y=\"AT\", data=data);"
   ]
  },
  {
   "cell_type": "code",
   "execution_count": 13,
   "id": "dcd89742",
   "metadata": {
    "ExecuteTime": {
     "end_time": "2021-08-05T07:46:20.476197Z",
     "start_time": "2021-08-05T07:46:20.460521Z"
    }
   },
   "outputs": [
    {
     "data": {
      "text/plain": [
       "Intercept   -215.981488\n",
       "Waist          3.458859\n",
       "dtype: float64"
      ]
     },
     "execution_count": 13,
     "metadata": {},
     "output_type": "execute_result"
    }
   ],
   "source": [
    "# Coefficients\n",
    "model.params"
   ]
  },
  {
   "cell_type": "code",
   "execution_count": 14,
   "id": "1f562f98",
   "metadata": {
    "ExecuteTime": {
     "end_time": "2021-08-05T07:46:20.625938Z",
     "start_time": "2021-08-05T07:46:20.484605Z"
    }
   },
   "outputs": [
    {
     "name": "stdout",
     "output_type": "stream",
     "text": [
      "Intercept    -9.909103\n",
      "Waist        14.740376\n",
      "dtype: float64 \n",
      " Intercept    8.197416e-17\n",
      "Waist        1.618607e-27\n",
      "dtype: float64\n"
     ]
    }
   ],
   "source": [
    "# tvalues and pvalues\n",
    "print(model.tvalues, \"\\n\", model.pvalues)"
   ]
  },
  {
   "cell_type": "code",
   "execution_count": 15,
   "id": "0162300e",
   "metadata": {
    "ExecuteTime": {
     "end_time": "2021-08-05T07:46:20.743611Z",
     "start_time": "2021-08-05T07:46:20.638281Z"
    }
   },
   "outputs": [
    {
     "data": {
      "text/plain": [
       "(0.6700368930528429, 0.6669531256981966)"
      ]
     },
     "execution_count": 15,
     "metadata": {},
     "output_type": "execute_result"
    }
   ],
   "source": [
    "# R Squared Values\n",
    "(model.rsquared, model.rsquared_adj)"
   ]
  },
  {
   "cell_type": "markdown",
   "id": "030313cd",
   "metadata": {},
   "source": [
    "# Predict for new data point"
   ]
  },
  {
   "cell_type": "code",
   "execution_count": 16,
   "id": "aaf19142",
   "metadata": {
    "ExecuteTime": {
     "end_time": "2021-08-05T07:46:20.846142Z",
     "start_time": "2021-08-05T07:46:20.753522Z"
    }
   },
   "outputs": [],
   "source": [
    "#Predict for 75 and 73 \n",
    "newdata=pd.Series([74.75,72.60])"
   ]
  },
  {
   "cell_type": "code",
   "execution_count": 17,
   "id": "70911e08",
   "metadata": {
    "ExecuteTime": {
     "end_time": "2021-08-05T07:46:21.062023Z",
     "start_time": "2021-08-05T07:46:20.851542Z"
    }
   },
   "outputs": [],
   "source": [
    "data_pred=pd.DataFrame(newdata,columns=['Waist'])"
   ]
  },
  {
   "cell_type": "code",
   "execution_count": 18,
   "id": "0e961a69",
   "metadata": {
    "ExecuteTime": {
     "end_time": "2021-08-05T07:46:21.266907Z",
     "start_time": "2021-08-05T07:46:21.075786Z"
    }
   },
   "outputs": [
    {
     "data": {
      "text/plain": [
       "0    42.568252\n",
       "1    35.131704\n",
       "dtype: float64"
      ]
     },
     "execution_count": 18,
     "metadata": {},
     "output_type": "execute_result"
    }
   ],
   "source": [
    "model.predict(data_pred)"
   ]
  },
  {
   "cell_type": "code",
   "execution_count": null,
   "id": "84094830",
   "metadata": {},
   "outputs": [],
   "source": []
  }
 ],
 "metadata": {
  "gist": {
   "data": {
    "description": "Documents/ExcelR/Python Intro/Simple Linear Regression/WT and AT.ipynb",
    "public": true
   },
   "id": ""
  },
  "kernelspec": {
   "display_name": "Python 3",
   "language": "python",
   "name": "python3"
  },
  "language_info": {
   "codemirror_mode": {
    "name": "ipython",
    "version": 3
   },
   "file_extension": ".py",
   "mimetype": "text/x-python",
   "name": "python",
   "nbconvert_exporter": "python",
   "pygments_lexer": "ipython3",
   "version": "3.8.8"
  },
  "toc": {
   "base_numbering": 1,
   "nav_menu": {},
   "number_sections": true,
   "sideBar": true,
   "skip_h1_title": false,
   "title_cell": "Table of Contents",
   "title_sidebar": "Contents",
   "toc_cell": false,
   "toc_position": {},
   "toc_section_display": true,
   "toc_window_display": false
  }
 },
 "nbformat": 4,
 "nbformat_minor": 5
}
