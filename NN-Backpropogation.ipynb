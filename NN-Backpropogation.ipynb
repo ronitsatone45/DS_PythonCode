{
 "cells": [
  {
   "cell_type": "code",
   "execution_count": 1,
   "metadata": {
    "ExecuteTime": {
     "end_time": "2021-09-14T04:10:59.646604Z",
     "start_time": "2021-09-14T04:10:31.655044Z"
    }
   },
   "outputs": [
    {
     "name": "stdout",
     "output_type": "stream",
     "text": [
      "Collecting keras\n",
      "  Downloading keras-2.6.0-py2.py3-none-any.whl (1.3 MB)\n",
      "Installing collected packages: keras\n",
      "Successfully installed keras-2.6.0\n"
     ]
    }
   ],
   "source": [
    "!pip install keras"
   ]
  },
  {
   "cell_type": "code",
   "execution_count": 3,
   "metadata": {
    "ExecuteTime": {
     "end_time": "2021-09-14T04:16:05.811789Z",
     "start_time": "2021-09-14T04:11:39.302285Z"
    }
   },
   "outputs": [
    {
     "name": "stdout",
     "output_type": "stream",
     "text": [
      "Collecting tensorflow\n",
      "  Downloading tensorflow-2.6.0-cp38-cp38-win_amd64.whl (423.2 MB)\n",
      "Collecting gast==0.4.0\n",
      "  Downloading gast-0.4.0-py3-none-any.whl (9.8 kB)\n",
      "Requirement already satisfied: wheel~=0.35 in c:\\users\\hp\\anaconda3\\lib\\site-packages (from tensorflow) (0.36.2)\n",
      "Collecting clang~=5.0\n",
      "  Downloading clang-5.0.tar.gz (30 kB)\n",
      "Collecting numpy~=1.19.2\n",
      "  Downloading numpy-1.19.5-cp38-cp38-win_amd64.whl (13.3 MB)\n",
      "Requirement already satisfied: keras~=2.6 in c:\\users\\hp\\anaconda3\\lib\\site-packages (from tensorflow) (2.6.0)\n",
      "Collecting absl-py~=0.10\n",
      "  Downloading absl_py-0.13.0-py3-none-any.whl (132 kB)\n",
      "Collecting google-pasta~=0.2\n",
      "  Downloading google_pasta-0.2.0-py3-none-any.whl (57 kB)\n",
      "Requirement already satisfied: typing-extensions~=3.7.4 in c:\\users\\hp\\anaconda3\\lib\\site-packages (from tensorflow) (3.7.4.3)\n",
      "Requirement already satisfied: wrapt~=1.12.1 in c:\\users\\hp\\anaconda3\\lib\\site-packages (from tensorflow) (1.12.1)\n",
      "Collecting termcolor~=1.1.0\n",
      "  Downloading termcolor-1.1.0.tar.gz (3.9 kB)\n",
      "Requirement already satisfied: six~=1.15.0 in c:\\users\\hp\\anaconda3\\lib\\site-packages (from tensorflow) (1.15.0)\n",
      "Collecting tensorflow-estimator~=2.6\n",
      "  Downloading tensorflow_estimator-2.6.0-py2.py3-none-any.whl (462 kB)\n",
      "Collecting astunparse~=1.6.3\n",
      "  Downloading astunparse-1.6.3-py2.py3-none-any.whl (12 kB)\n",
      "Collecting opt-einsum~=3.3.0\n",
      "  Downloading opt_einsum-3.3.0-py3-none-any.whl (65 kB)\n",
      "Collecting h5py~=3.1.0\n",
      "  Downloading h5py-3.1.0-cp38-cp38-win_amd64.whl (2.7 MB)\n",
      "Requirement already satisfied: protobuf>=3.9.2 in c:\\users\\hp\\anaconda3\\lib\\site-packages (from tensorflow) (3.17.3)\n",
      "Collecting flatbuffers~=1.12.0\n",
      "  Downloading flatbuffers-1.12-py2.py3-none-any.whl (15 kB)\n",
      "Collecting tensorboard~=2.6\n",
      "  Downloading tensorboard-2.6.0-py3-none-any.whl (5.6 MB)\n",
      "Collecting keras-preprocessing~=1.1.2\n",
      "  Downloading Keras_Preprocessing-1.1.2-py2.py3-none-any.whl (42 kB)\n",
      "Collecting grpcio<2.0,>=1.37.0\n",
      "  Downloading grpcio-1.40.0-cp38-cp38-win_amd64.whl (3.2 MB)\n",
      "Requirement already satisfied: werkzeug>=0.11.15 in c:\\users\\hp\\anaconda3\\lib\\site-packages (from tensorboard~=2.6->tensorflow) (1.0.1)\n",
      "Requirement already satisfied: setuptools>=41.0.0 in c:\\users\\hp\\anaconda3\\lib\\site-packages (from tensorboard~=2.6->tensorflow) (52.0.0.post20210125)\n",
      "Requirement already satisfied: requests<3,>=2.21.0 in c:\\users\\hp\\anaconda3\\lib\\site-packages (from tensorboard~=2.6->tensorflow) (2.25.1)\n",
      "Collecting tensorboard-data-server<0.7.0,>=0.6.0\n",
      "  Downloading tensorboard_data_server-0.6.1-py3-none-any.whl (2.4 kB)\n",
      "Collecting google-auth<2,>=1.6.3\n",
      "  Downloading google_auth-1.35.0-py2.py3-none-any.whl (152 kB)\n",
      "Collecting google-auth-oauthlib<0.5,>=0.4.1\n",
      "  Downloading google_auth_oauthlib-0.4.6-py2.py3-none-any.whl (18 kB)\n",
      "Collecting tensorboard-plugin-wit>=1.6.0\n",
      "  Downloading tensorboard_plugin_wit-1.8.0-py3-none-any.whl (781 kB)\n",
      "Collecting markdown>=2.6.8\n",
      "  Downloading Markdown-3.3.4-py3-none-any.whl (97 kB)\n",
      "Collecting pyasn1-modules>=0.2.1\n",
      "  Downloading pyasn1_modules-0.2.8-py2.py3-none-any.whl (155 kB)\n",
      "Requirement already satisfied: cachetools<5.0,>=2.0.0 in c:\\users\\hp\\anaconda3\\lib\\site-packages (from google-auth<2,>=1.6.3->tensorboard~=2.6->tensorflow) (4.2.2)\n",
      "Collecting rsa<5,>=3.1.4\n",
      "  Downloading rsa-4.7.2-py3-none-any.whl (34 kB)\n",
      "Collecting requests-oauthlib>=0.7.0\n",
      "  Downloading requests_oauthlib-1.3.0-py2.py3-none-any.whl (23 kB)\n",
      "Collecting pyasn1<0.5.0,>=0.4.6\n",
      "  Downloading pyasn1-0.4.8-py2.py3-none-any.whl (77 kB)\n",
      "Requirement already satisfied: idna<3,>=2.5 in c:\\users\\hp\\anaconda3\\lib\\site-packages (from requests<3,>=2.21.0->tensorboard~=2.6->tensorflow) (2.10)\n",
      "Requirement already satisfied: urllib3<1.27,>=1.21.1 in c:\\users\\hp\\anaconda3\\lib\\site-packages (from requests<3,>=2.21.0->tensorboard~=2.6->tensorflow) (1.26.4)\n",
      "Requirement already satisfied: certifi>=2017.4.17 in c:\\users\\hp\\anaconda3\\lib\\site-packages (from requests<3,>=2.21.0->tensorboard~=2.6->tensorflow) (2021.5.30)\n",
      "Requirement already satisfied: chardet<5,>=3.0.2 in c:\\users\\hp\\anaconda3\\lib\\site-packages (from requests<3,>=2.21.0->tensorboard~=2.6->tensorflow) (4.0.0)\n",
      "Collecting oauthlib>=3.0.0\n",
      "  Downloading oauthlib-3.1.1-py2.py3-none-any.whl (146 kB)\n",
      "Building wheels for collected packages: clang, termcolor\n",
      "  Building wheel for clang (setup.py): started\n",
      "  Building wheel for clang (setup.py): finished with status 'done'\n",
      "  Created wheel for clang: filename=clang-5.0-py3-none-any.whl size=30702 sha256=bd71ed5ebf87f9fa49cd467ae7514b6aa745ff6c5db0618069de047a03af0969\n",
      "  Stored in directory: c:\\users\\hp\\appdata\\local\\pip\\cache\\wheels\\f1\\60\\77\\22b9b5887bd47801796a856f47650d9789c74dc3161a26d608\n",
      "  Building wheel for termcolor (setup.py): started\n",
      "  Building wheel for termcolor (setup.py): finished with status 'done'\n",
      "  Created wheel for termcolor: filename=termcolor-1.1.0-py3-none-any.whl size=4829 sha256=9097f9a68e72a975e149a00fa7a16dbd486d6e6f3f60d4b311e7f2bbe4dcddf1\n",
      "  Stored in directory: c:\\users\\hp\\appdata\\local\\pip\\cache\\wheels\\a0\\16\\9c\\5473df82468f958445479c59e784896fa24f4a5fc024b0f501\n",
      "Successfully built clang termcolor\n",
      "Installing collected packages: pyasn1, rsa, pyasn1-modules, oauthlib, requests-oauthlib, google-auth, tensorboard-plugin-wit, tensorboard-data-server, numpy, markdown, grpcio, google-auth-oauthlib, absl-py, termcolor, tensorflow-estimator, tensorboard, opt-einsum, keras-preprocessing, h5py, google-pasta, gast, flatbuffers, clang, astunparse, tensorflow\n",
      "  Attempting uninstall: numpy\n",
      "    Found existing installation: numpy 1.20.1\n",
      "    Uninstalling numpy-1.20.1:\n",
      "      Successfully uninstalled numpy-1.20.1\n",
      "  Attempting uninstall: h5py\n",
      "    Found existing installation: h5py 2.10.0\n",
      "    Uninstalling h5py-2.10.0:\n",
      "      Successfully uninstalled h5py-2.10.0\n",
      "Successfully installed absl-py-0.13.0 astunparse-1.6.3 clang-5.0 flatbuffers-1.12 gast-0.4.0 google-auth-1.35.0 google-auth-oauthlib-0.4.6 google-pasta-0.2.0 grpcio-1.40.0 h5py-3.1.0 keras-preprocessing-1.1.2 markdown-3.3.4 numpy-1.19.5 oauthlib-3.1.1 opt-einsum-3.3.0 pyasn1-0.4.8 pyasn1-modules-0.2.8 requests-oauthlib-1.3.0 rsa-4.7.2 tensorboard-2.6.0 tensorboard-data-server-0.6.1 tensorboard-plugin-wit-1.8.0 tensorflow-2.6.0 tensorflow-estimator-2.6.0 termcolor-1.1.0\n"
     ]
    }
   ],
   "source": [
    "!pip install tensorflow"
   ]
  },
  {
   "cell_type": "code",
   "execution_count": 4,
   "metadata": {
    "ExecuteTime": {
     "end_time": "2021-09-14T04:22:29.748204Z",
     "start_time": "2021-09-14T04:22:12.283926Z"
    },
    "execution": {
     "iopub.execute_input": "2021-09-13T06:58:23.941380Z",
     "iopub.status.busy": "2021-09-13T06:58:23.940499Z",
     "iopub.status.idle": "2021-09-13T06:58:29.367729Z",
     "shell.execute_reply": "2021-09-13T06:58:29.366883Z",
     "shell.execute_reply.started": "2021-09-13T06:58:23.941331Z"
    }
   },
   "outputs": [],
   "source": [
    "# Create your first MLP in Keras\n",
    "from keras.models import Sequential\n",
    "from keras.layers import Dense\n",
    "import numpy\n",
    "#pip install keras\n",
    "#https://www.tensorflow.org/install/pip#windows"
   ]
  },
  {
   "cell_type": "code",
   "execution_count": 6,
   "metadata": {
    "ExecuteTime": {
     "end_time": "2021-09-14T04:23:28.862553Z",
     "start_time": "2021-09-14T04:23:28.796344Z"
    },
    "execution": {
     "iopub.execute_input": "2021-09-13T06:58:29.370066Z",
     "iopub.status.busy": "2021-09-13T06:58:29.369745Z",
     "iopub.status.idle": "2021-09-13T06:58:29.396680Z",
     "shell.execute_reply": "2021-09-13T06:58:29.395865Z",
     "shell.execute_reply.started": "2021-09-13T06:58:29.370039Z"
    }
   },
   "outputs": [],
   "source": [
    "# fix random seed for reproducibility\n",
    "seed = 7\n",
    "numpy.random.seed(seed)\n",
    "# load pima indians dataset\n",
    "dataset = numpy.loadtxt(\"pima-indians-diabetes.data (1).csv\", delimiter=\",\")\n",
    "# split into input (X) and output (Y) variables\n",
    "X = dataset[:,0:8]\n",
    "Y = dataset[:,8]\n"
   ]
  },
  {
   "cell_type": "code",
   "execution_count": 7,
   "metadata": {
    "ExecuteTime": {
     "end_time": "2021-09-14T04:23:30.771671Z",
     "start_time": "2021-09-14T04:23:30.251738Z"
    },
    "execution": {
     "iopub.execute_input": "2021-09-13T06:58:29.398261Z",
     "iopub.status.busy": "2021-09-13T06:58:29.397993Z",
     "iopub.status.idle": "2021-09-13T06:58:29.515703Z",
     "shell.execute_reply": "2021-09-13T06:58:29.514657Z",
     "shell.execute_reply.started": "2021-09-13T06:58:29.398235Z"
    }
   },
   "outputs": [],
   "source": [
    "# create model\n",
    "model = Sequential()\n",
    "model.add(Dense(12, input_dim=8, activation='relu'))\n",
    "model.add(Dense(8,activation='relu'))\n",
    "model.add(Dense(1,activation='sigmoid'))"
   ]
  },
  {
   "attachments": {
    "image.png": {
     "image/png": "[encoded data removed]"
    }
   },
   "cell_type": "markdown",
   "metadata": {},
   "source": [
    "![image.png](attachment:image.png)"
   ]
  },
  {
   "cell_type": "code",
   "execution_count": 8,
   "metadata": {
    "ExecuteTime": {
     "end_time": "2021-09-14T04:23:35.684713Z",
     "start_time": "2021-09-14T04:23:35.664618Z"
    },
    "execution": {
     "iopub.execute_input": "2021-09-13T06:58:29.519583Z",
     "iopub.status.busy": "2021-09-13T06:58:29.519237Z",
     "iopub.status.idle": "2021-09-13T06:58:29.537271Z",
     "shell.execute_reply": "2021-09-13T06:58:29.536336Z",
     "shell.execute_reply.started": "2021-09-13T06:58:29.519549Z"
    }
   },
   "outputs": [],
   "source": [
    "# Compile model\n",
    "model.compile(loss='binary_crossentropy', optimizer='adam', metrics=['accuracy'])"
   ]
  },
  {
   "cell_type": "code",
   "execution_count": 9,
   "metadata": {
    "ExecuteTime": {
     "end_time": "2021-09-14T04:24:12.144401Z",
     "start_time": "2021-09-14T04:23:36.645569Z"
    },
    "execution": {
     "iopub.execute_input": "2021-09-13T06:58:29.540109Z",
     "iopub.status.busy": "2021-09-13T06:58:29.539675Z",
     "iopub.status.idle": "2021-09-13T06:58:43.916034Z",
     "shell.execute_reply": "2021-09-13T06:58:43.914813Z",
     "shell.execute_reply.started": "2021-09-13T06:58:29.540074Z"
    }
   },
   "outputs": [
    {
     "name": "stdout",
     "output_type": "stream",
     "text": [
      "Epoch 1/150\n",
      "52/52 [==============================] - 2s 10ms/step - loss: 10.6943 - accuracy: 0.6148 - val_loss: 2.0071 - val_accuracy: 0.5551\n",
      "Epoch 2/150\n",
      "52/52 [==============================] - 0s 3ms/step - loss: 1.8435 - accuracy: 0.5506 - val_loss: 1.6703 - val_accuracy: 0.5984\n",
      "Epoch 3/150\n",
      "52/52 [==============================] - 0s 3ms/step - loss: 1.4913 - accuracy: 0.5875 - val_loss: 1.4425 - val_accuracy: 0.6417\n",
      "Epoch 4/150\n",
      "52/52 [==============================] - 0s 3ms/step - loss: 1.3538 - accuracy: 0.6031 - val_loss: 1.2719 - val_accuracy: 0.6614\n",
      "Epoch 5/150\n",
      "52/52 [==============================] - 0s 3ms/step - loss: 1.2238 - accuracy: 0.6109 - val_loss: 1.2060 - val_accuracy: 0.6457\n",
      "Epoch 6/150\n",
      "52/52 [==============================] - 0s 3ms/step - loss: 1.1472 - accuracy: 0.6284 - val_loss: 1.1374 - val_accuracy: 0.6378\n",
      "Epoch 7/150\n",
      "52/52 [==============================] - 0s 3ms/step - loss: 1.0586 - accuracy: 0.6576 - val_loss: 1.0582 - val_accuracy: 0.6575\n",
      "Epoch 8/150\n",
      "52/52 [==============================] - 0s 3ms/step - loss: 0.9979 - accuracy: 0.6498 - val_loss: 1.3287 - val_accuracy: 0.5866\n",
      "Epoch 9/150\n",
      "52/52 [==============================] - 0s 3ms/step - loss: 0.9996 - accuracy: 0.6498 - val_loss: 1.0035 - val_accuracy: 0.6535\n",
      "Epoch 10/150\n",
      "52/52 [==============================] - 0s 3ms/step - loss: 0.9435 - accuracy: 0.6537 - val_loss: 0.9610 - val_accuracy: 0.6614\n",
      "Epoch 11/150\n",
      "52/52 [==============================] - 0s 3ms/step - loss: 0.9070 - accuracy: 0.6323 - val_loss: 0.8947 - val_accuracy: 0.6457\n",
      "Epoch 12/150\n",
      "52/52 [==============================] - 0s 3ms/step - loss: 0.8547 - accuracy: 0.6634 - val_loss: 0.8537 - val_accuracy: 0.6535\n",
      "Epoch 13/150\n",
      "52/52 [==============================] - 0s 3ms/step - loss: 0.8416 - accuracy: 0.6479 - val_loss: 0.8260 - val_accuracy: 0.6693\n",
      "Epoch 14/150\n",
      "52/52 [==============================] - 0s 3ms/step - loss: 0.8183 - accuracy: 0.6381 - val_loss: 0.8177 - val_accuracy: 0.6378\n",
      "Epoch 15/150\n",
      "52/52 [==============================] - 0s 3ms/step - loss: 0.7878 - accuracy: 0.6342 - val_loss: 0.7612 - val_accuracy: 0.6457\n",
      "Epoch 16/150\n",
      "52/52 [==============================] - 0s 3ms/step - loss: 0.7361 - accuracy: 0.6595 - val_loss: 0.7471 - val_accuracy: 0.6575\n",
      "Epoch 17/150\n",
      "52/52 [==============================] - 0s 3ms/step - loss: 0.7587 - accuracy: 0.6401 - val_loss: 0.7280 - val_accuracy: 0.6496\n",
      "Epoch 18/150\n",
      "52/52 [==============================] - 0s 3ms/step - loss: 0.7390 - accuracy: 0.6595 - val_loss: 0.7230 - val_accuracy: 0.6339\n",
      "Epoch 19/150\n",
      "52/52 [==============================] - 0s 3ms/step - loss: 0.7177 - accuracy: 0.6693 - val_loss: 0.7134 - val_accuracy: 0.6772\n",
      "Epoch 20/150\n",
      "52/52 [==============================] - 0s 3ms/step - loss: 0.6861 - accuracy: 0.6712 - val_loss: 0.6999 - val_accuracy: 0.6457\n",
      "Epoch 21/150\n",
      "52/52 [==============================] - 0s 3ms/step - loss: 0.6775 - accuracy: 0.6770 - val_loss: 0.6783 - val_accuracy: 0.6378\n",
      "Epoch 22/150\n",
      "52/52 [==============================] - 0s 3ms/step - loss: 0.6614 - accuracy: 0.6907 - val_loss: 0.7332 - val_accuracy: 0.6772\n",
      "Epoch 23/150\n",
      "52/52 [==============================] - 0s 3ms/step - loss: 0.6369 - accuracy: 0.6868 - val_loss: 0.6653 - val_accuracy: 0.6969\n",
      "Epoch 24/150\n",
      "52/52 [==============================] - 0s 4ms/step - loss: 0.6513 - accuracy: 0.6790 - val_loss: 0.6445 - val_accuracy: 0.6614\n",
      "Epoch 25/150\n",
      "52/52 [==============================] - 0s 4ms/step - loss: 0.6256 - accuracy: 0.6887 - val_loss: 0.6266 - val_accuracy: 0.6654\n",
      "Epoch 26/150\n",
      "52/52 [==============================] - 0s 4ms/step - loss: 0.6551 - accuracy: 0.6809 - val_loss: 0.6252 - val_accuracy: 0.6890\n",
      "Epoch 27/150\n",
      "52/52 [==============================] - 0s 3ms/step - loss: 0.6086 - accuracy: 0.7198 - val_loss: 0.6031 - val_accuracy: 0.6772\n",
      "Epoch 28/150\n",
      "52/52 [==============================] - 0s 3ms/step - loss: 0.6064 - accuracy: 0.6907 - val_loss: 0.5901 - val_accuracy: 0.6811\n",
      "Epoch 29/150\n",
      "52/52 [==============================] - 0s 3ms/step - loss: 0.5915 - accuracy: 0.7062 - val_loss: 0.5835 - val_accuracy: 0.6811\n",
      "Epoch 30/150\n",
      "52/52 [==============================] - 0s 3ms/step - loss: 0.6400 - accuracy: 0.6868 - val_loss: 0.6383 - val_accuracy: 0.6850\n",
      "Epoch 31/150\n",
      "52/52 [==============================] - 0s 3ms/step - loss: 0.6131 - accuracy: 0.6926 - val_loss: 0.6029 - val_accuracy: 0.7087\n",
      "Epoch 32/150\n",
      "52/52 [==============================] - 0s 3ms/step - loss: 0.6154 - accuracy: 0.7004 - val_loss: 0.5802 - val_accuracy: 0.7126\n",
      "Epoch 33/150\n",
      "52/52 [==============================] - 0s 3ms/step - loss: 0.6096 - accuracy: 0.6984 - val_loss: 0.5741 - val_accuracy: 0.7087\n",
      "Epoch 34/150\n",
      "52/52 [==============================] - 0s 3ms/step - loss: 0.5843 - accuracy: 0.7004 - val_loss: 0.6206 - val_accuracy: 0.6732\n",
      "Epoch 35/150\n",
      "52/52 [==============================] - 0s 3ms/step - loss: 0.6125 - accuracy: 0.6907 - val_loss: 0.5739 - val_accuracy: 0.7126\n",
      "Epoch 36/150\n",
      "52/52 [==============================] - 0s 3ms/step - loss: 0.6092 - accuracy: 0.7023 - val_loss: 0.7224 - val_accuracy: 0.6142\n",
      "Epoch 37/150\n",
      "52/52 [==============================] - 0s 5ms/step - loss: 0.6038 - accuracy: 0.7004 - val_loss: 0.6463 - val_accuracy: 0.6969\n",
      "Epoch 38/150\n",
      "52/52 [==============================] - 0s 3ms/step - loss: 0.5770 - accuracy: 0.7140 - val_loss: 0.5688 - val_accuracy: 0.6969\n",
      "Epoch 39/150\n",
      "52/52 [==============================] - 0s 3ms/step - loss: 0.6001 - accuracy: 0.7121 - val_loss: 0.5705 - val_accuracy: 0.7165\n",
      "Epoch 40/150\n",
      "52/52 [==============================] - 0s 3ms/step - loss: 0.5857 - accuracy: 0.7218 - val_loss: 0.6887 - val_accuracy: 0.6811\n",
      "Epoch 41/150\n",
      "52/52 [==============================] - 0s 3ms/step - loss: 0.6012 - accuracy: 0.7043 - val_loss: 0.5718 - val_accuracy: 0.7087\n",
      "Epoch 42/150\n",
      "52/52 [==============================] - 0s 3ms/step - loss: 0.5826 - accuracy: 0.7140 - val_loss: 0.5614 - val_accuracy: 0.7126\n",
      "Epoch 43/150\n",
      "52/52 [==============================] - 0s 3ms/step - loss: 0.5725 - accuracy: 0.7160 - val_loss: 0.5781 - val_accuracy: 0.7008\n",
      "Epoch 44/150\n",
      "52/52 [==============================] - 0s 3ms/step - loss: 0.5831 - accuracy: 0.7160 - val_loss: 0.6093 - val_accuracy: 0.6929\n",
      "Epoch 45/150\n",
      "52/52 [==============================] - 0s 3ms/step - loss: 0.6215 - accuracy: 0.6809 - val_loss: 0.5790 - val_accuracy: 0.7205\n",
      "Epoch 46/150\n",
      "52/52 [==============================] - 0s 3ms/step - loss: 0.6711 - accuracy: 0.6654 - val_loss: 0.5651 - val_accuracy: 0.7126\n",
      "Epoch 47/150\n",
      "52/52 [==============================] - 0s 3ms/step - loss: 0.6066 - accuracy: 0.7121 - val_loss: 0.6570 - val_accuracy: 0.6299\n",
      "Epoch 48/150\n",
      "52/52 [==============================] - 0s 3ms/step - loss: 0.5534 - accuracy: 0.7315 - val_loss: 0.5601 - val_accuracy: 0.7244\n",
      "Epoch 49/150\n",
      "52/52 [==============================] - 0s 3ms/step - loss: 0.5720 - accuracy: 0.7198 - val_loss: 0.6125 - val_accuracy: 0.6850\n",
      "Epoch 50/150\n",
      "52/52 [==============================] - 0s 3ms/step - loss: 0.5650 - accuracy: 0.7237 - val_loss: 0.5963 - val_accuracy: 0.6772\n",
      "Epoch 51/150\n",
      "52/52 [==============================] - 0s 3ms/step - loss: 0.5909 - accuracy: 0.7043 - val_loss: 0.7636 - val_accuracy: 0.5630\n",
      "Epoch 52/150\n",
      "52/52 [==============================] - 0s 3ms/step - loss: 0.5935 - accuracy: 0.7121 - val_loss: 0.7393 - val_accuracy: 0.5591\n",
      "Epoch 53/150\n",
      "52/52 [==============================] - 0s 3ms/step - loss: 0.5860 - accuracy: 0.7237 - val_loss: 0.5748 - val_accuracy: 0.7244\n",
      "Epoch 54/150\n",
      "52/52 [==============================] - 0s 3ms/step - loss: 0.5638 - accuracy: 0.7354 - val_loss: 0.5640 - val_accuracy: 0.7441\n",
      "Epoch 55/150\n",
      "52/52 [==============================] - 0s 3ms/step - loss: 0.5545 - accuracy: 0.7412 - val_loss: 0.5490 - val_accuracy: 0.7244\n",
      "Epoch 56/150\n",
      "52/52 [==============================] - 0s 3ms/step - loss: 0.5970 - accuracy: 0.7160 - val_loss: 0.5749 - val_accuracy: 0.7323\n",
      "Epoch 57/150\n",
      "52/52 [==============================] - 0s 4ms/step - loss: 0.5576 - accuracy: 0.7276 - val_loss: 0.5709 - val_accuracy: 0.7205\n",
      "Epoch 58/150\n",
      "52/52 [==============================] - 0s 3ms/step - loss: 0.5783 - accuracy: 0.6926 - val_loss: 0.5455 - val_accuracy: 0.7323\n",
      "Epoch 59/150\n",
      "52/52 [==============================] - 0s 3ms/step - loss: 0.5486 - accuracy: 0.7198 - val_loss: 0.5910 - val_accuracy: 0.7047\n",
      "Epoch 60/150\n",
      "52/52 [==============================] - 0s 3ms/step - loss: 0.6230 - accuracy: 0.6693 - val_loss: 0.5979 - val_accuracy: 0.6772\n",
      "Epoch 61/150\n",
      "52/52 [==============================] - 0s 3ms/step - loss: 0.5925 - accuracy: 0.7179 - val_loss: 0.5506 - val_accuracy: 0.7165\n",
      "Epoch 62/150\n",
      "52/52 [==============================] - 0s 3ms/step - loss: 0.5648 - accuracy: 0.7218 - val_loss: 0.5928 - val_accuracy: 0.7126\n",
      "Epoch 63/150\n",
      "52/52 [==============================] - 0s 3ms/step - loss: 0.5730 - accuracy: 0.7198 - val_loss: 0.5862 - val_accuracy: 0.7008\n",
      "Epoch 64/150\n",
      "52/52 [==============================] - 0s 3ms/step - loss: 0.5494 - accuracy: 0.7296 - val_loss: 0.5738 - val_accuracy: 0.7126\n",
      "Epoch 65/150\n",
      "52/52 [==============================] - 0s 3ms/step - loss: 0.5718 - accuracy: 0.6946 - val_loss: 0.6068 - val_accuracy: 0.6969\n",
      "Epoch 66/150\n",
      "52/52 [==============================] - 0s 3ms/step - loss: 0.5403 - accuracy: 0.7335 - val_loss: 0.6259 - val_accuracy: 0.6575\n",
      "Epoch 67/150\n",
      "52/52 [==============================] - 0s 3ms/step - loss: 0.5551 - accuracy: 0.7296 - val_loss: 0.5845 - val_accuracy: 0.7087\n",
      "Epoch 68/150\n",
      "52/52 [==============================] - 0s 3ms/step - loss: 0.5631 - accuracy: 0.7218 - val_loss: 0.5701 - val_accuracy: 0.7087\n",
      "Epoch 69/150\n",
      "52/52 [==============================] - 0s 3ms/step - loss: 0.5593 - accuracy: 0.6965 - val_loss: 0.6797 - val_accuracy: 0.5827\n",
      "Epoch 70/150\n",
      "52/52 [==============================] - 0s 3ms/step - loss: 0.6008 - accuracy: 0.7179 - val_loss: 0.6559 - val_accuracy: 0.6299\n",
      "Epoch 71/150\n",
      "52/52 [==============================] - 0s 3ms/step - loss: 0.5642 - accuracy: 0.7101 - val_loss: 0.5842 - val_accuracy: 0.6850\n",
      "Epoch 72/150\n",
      "52/52 [==============================] - 0s 3ms/step - loss: 0.5816 - accuracy: 0.7140 - val_loss: 0.5500 - val_accuracy: 0.7323\n",
      "Epoch 73/150\n",
      "52/52 [==============================] - 0s 5ms/step - loss: 0.5759 - accuracy: 0.7218 - val_loss: 0.6016 - val_accuracy: 0.7087\n",
      "Epoch 74/150\n",
      "52/52 [==============================] - 0s 5ms/step - loss: 0.5796 - accuracy: 0.7179 - val_loss: 0.6146 - val_accuracy: 0.6890\n",
      "Epoch 75/150\n",
      "52/52 [==============================] - 0s 4ms/step - loss: 0.5830 - accuracy: 0.7315 - val_loss: 0.5284 - val_accuracy: 0.7323\n",
      "Epoch 76/150\n",
      "52/52 [==============================] - 0s 4ms/step - loss: 0.5491 - accuracy: 0.7296 - val_loss: 0.6107 - val_accuracy: 0.6969\n",
      "Epoch 77/150\n",
      "52/52 [==============================] - 0s 3ms/step - loss: 0.5556 - accuracy: 0.7237 - val_loss: 0.5537 - val_accuracy: 0.7126\n",
      "Epoch 78/150\n",
      "52/52 [==============================] - 0s 3ms/step - loss: 0.5893 - accuracy: 0.7121 - val_loss: 0.5982 - val_accuracy: 0.7283\n",
      "Epoch 79/150\n",
      "52/52 [==============================] - 0s 3ms/step - loss: 0.5756 - accuracy: 0.7140 - val_loss: 0.5481 - val_accuracy: 0.7165\n",
      "Epoch 80/150\n",
      "52/52 [==============================] - 0s 3ms/step - loss: 0.5417 - accuracy: 0.7529 - val_loss: 0.5404 - val_accuracy: 0.7402\n",
      "Epoch 81/150\n",
      "52/52 [==============================] - 0s 3ms/step - loss: 0.5660 - accuracy: 0.7179 - val_loss: 0.5380 - val_accuracy: 0.7323\n",
      "Epoch 82/150\n",
      "52/52 [==============================] - 0s 3ms/step - loss: 0.5788 - accuracy: 0.7160 - val_loss: 0.5569 - val_accuracy: 0.7087\n",
      "Epoch 83/150\n",
      "52/52 [==============================] - 0s 3ms/step - loss: 0.5880 - accuracy: 0.7218 - val_loss: 0.5374 - val_accuracy: 0.7362\n",
      "Epoch 84/150\n",
      "52/52 [==============================] - 0s 3ms/step - loss: 0.5516 - accuracy: 0.7296 - val_loss: 0.5337 - val_accuracy: 0.7362\n",
      "Epoch 85/150\n",
      "52/52 [==============================] - 0s 3ms/step - loss: 0.5476 - accuracy: 0.7198 - val_loss: 0.5692 - val_accuracy: 0.7165\n",
      "Epoch 86/150\n",
      "52/52 [==============================] - 0s 3ms/step - loss: 0.5666 - accuracy: 0.6926 - val_loss: 0.5299 - val_accuracy: 0.7402\n",
      "Epoch 87/150\n",
      "52/52 [==============================] - 0s 3ms/step - loss: 0.5454 - accuracy: 0.7315 - val_loss: 0.5423 - val_accuracy: 0.7480\n",
      "Epoch 88/150\n",
      "52/52 [==============================] - 0s 3ms/step - loss: 0.5905 - accuracy: 0.7101 - val_loss: 0.6050 - val_accuracy: 0.6969\n",
      "Epoch 89/150\n",
      "52/52 [==============================] - 0s 3ms/step - loss: 0.5440 - accuracy: 0.7179 - val_loss: 0.6154 - val_accuracy: 0.6969\n",
      "Epoch 90/150\n",
      "52/52 [==============================] - 0s 3ms/step - loss: 0.5840 - accuracy: 0.7218 - val_loss: 0.6823 - val_accuracy: 0.6063\n",
      "Epoch 91/150\n",
      "52/52 [==============================] - 0s 3ms/step - loss: 0.5518 - accuracy: 0.7257 - val_loss: 0.6074 - val_accuracy: 0.7126\n",
      "Epoch 92/150\n",
      "52/52 [==============================] - 0s 3ms/step - loss: 0.5403 - accuracy: 0.7296 - val_loss: 0.5785 - val_accuracy: 0.7165\n",
      "Epoch 93/150\n",
      "52/52 [==============================] - 0s 4ms/step - loss: 0.5483 - accuracy: 0.7101 - val_loss: 0.5519 - val_accuracy: 0.7362\n",
      "Epoch 94/150\n",
      "52/52 [==============================] - 0s 3ms/step - loss: 0.5324 - accuracy: 0.7471 - val_loss: 0.5463 - val_accuracy: 0.7165\n",
      "Epoch 95/150\n",
      "52/52 [==============================] - 0s 3ms/step - loss: 0.5406 - accuracy: 0.7490 - val_loss: 0.5378 - val_accuracy: 0.7559\n",
      "Epoch 96/150\n",
      "52/52 [==============================] - 0s 3ms/step - loss: 0.5407 - accuracy: 0.7374 - val_loss: 0.5574 - val_accuracy: 0.7520\n",
      "Epoch 97/150\n",
      "52/52 [==============================] - 0s 3ms/step - loss: 0.5409 - accuracy: 0.7276 - val_loss: 0.5451 - val_accuracy: 0.7441\n",
      "Epoch 98/150\n",
      "52/52 [==============================] - 0s 3ms/step - loss: 0.5520 - accuracy: 0.7198 - val_loss: 0.5336 - val_accuracy: 0.7323\n",
      "Epoch 99/150\n",
      "52/52 [==============================] - 0s 3ms/step - loss: 0.5252 - accuracy: 0.7432 - val_loss: 0.5778 - val_accuracy: 0.7205\n",
      "Epoch 100/150\n",
      "52/52 [==============================] - 0s 3ms/step - loss: 0.5434 - accuracy: 0.7412 - val_loss: 0.5331 - val_accuracy: 0.7283\n",
      "Epoch 101/150\n",
      "52/52 [==============================] - 0s 3ms/step - loss: 0.5460 - accuracy: 0.7393 - val_loss: 0.5355 - val_accuracy: 0.7283\n",
      "Epoch 102/150\n",
      "52/52 [==============================] - 0s 3ms/step - loss: 0.5639 - accuracy: 0.7257 - val_loss: 0.5680 - val_accuracy: 0.6890\n",
      "Epoch 103/150\n",
      "52/52 [==============================] - 0s 3ms/step - loss: 0.5758 - accuracy: 0.7043 - val_loss: 0.5307 - val_accuracy: 0.7441\n",
      "Epoch 104/150\n",
      "52/52 [==============================] - 0s 3ms/step - loss: 0.5531 - accuracy: 0.7354 - val_loss: 0.6081 - val_accuracy: 0.6614\n",
      "Epoch 105/150\n",
      "52/52 [==============================] - 0s 3ms/step - loss: 0.5713 - accuracy: 0.7451 - val_loss: 0.5415 - val_accuracy: 0.7047\n",
      "Epoch 106/150\n",
      "52/52 [==============================] - 0s 3ms/step - loss: 0.5330 - accuracy: 0.7276 - val_loss: 0.5651 - val_accuracy: 0.7205\n",
      "Epoch 107/150\n",
      "52/52 [==============================] - 0s 3ms/step - loss: 0.5344 - accuracy: 0.7237 - val_loss: 0.5930 - val_accuracy: 0.7244\n",
      "Epoch 108/150\n",
      "52/52 [==============================] - 0s 3ms/step - loss: 0.5375 - accuracy: 0.7471 - val_loss: 0.5692 - val_accuracy: 0.7244\n",
      "Epoch 109/150\n",
      "52/52 [==============================] - 0s 3ms/step - loss: 0.5315 - accuracy: 0.7218 - val_loss: 0.6129 - val_accuracy: 0.7165\n",
      "Epoch 110/150\n",
      "52/52 [==============================] - 0s 3ms/step - loss: 0.5313 - accuracy: 0.7276 - val_loss: 0.5253 - val_accuracy: 0.7638\n",
      "Epoch 111/150\n",
      "52/52 [==============================] - 0s 3ms/step - loss: 0.5336 - accuracy: 0.7432 - val_loss: 0.5437 - val_accuracy: 0.7559\n",
      "Epoch 112/150\n",
      "52/52 [==============================] - 0s 3ms/step - loss: 0.5324 - accuracy: 0.7471 - val_loss: 0.5675 - val_accuracy: 0.7165\n",
      "Epoch 113/150\n",
      "52/52 [==============================] - 0s 3ms/step - loss: 0.5242 - accuracy: 0.7257 - val_loss: 0.5297 - val_accuracy: 0.7520\n",
      "Epoch 114/150\n",
      "52/52 [==============================] - 0s 3ms/step - loss: 0.5404 - accuracy: 0.7315 - val_loss: 0.5555 - val_accuracy: 0.7362\n",
      "Epoch 115/150\n",
      "52/52 [==============================] - 0s 3ms/step - loss: 0.5588 - accuracy: 0.7198 - val_loss: 0.5314 - val_accuracy: 0.7323\n",
      "Epoch 116/150\n",
      "52/52 [==============================] - 0s 3ms/step - loss: 0.5398 - accuracy: 0.7335 - val_loss: 0.5517 - val_accuracy: 0.7520\n",
      "Epoch 117/150\n",
      "52/52 [==============================] - 0s 3ms/step - loss: 0.5354 - accuracy: 0.7276 - val_loss: 0.5604 - val_accuracy: 0.7323\n",
      "Epoch 118/150\n",
      "52/52 [==============================] - 0s 3ms/step - loss: 0.5497 - accuracy: 0.7121 - val_loss: 0.5625 - val_accuracy: 0.7244\n",
      "Epoch 119/150\n",
      "52/52 [==============================] - 0s 3ms/step - loss: 0.5262 - accuracy: 0.7412 - val_loss: 0.5916 - val_accuracy: 0.7087\n",
      "Epoch 120/150\n",
      "52/52 [==============================] - 0s 3ms/step - loss: 0.5255 - accuracy: 0.7374 - val_loss: 0.6105 - val_accuracy: 0.7244\n",
      "Epoch 121/150\n",
      "52/52 [==============================] - 0s 3ms/step - loss: 0.5405 - accuracy: 0.7335 - val_loss: 0.5265 - val_accuracy: 0.7402\n",
      "Epoch 122/150\n",
      "52/52 [==============================] - 0s 3ms/step - loss: 0.5133 - accuracy: 0.7529 - val_loss: 0.5226 - val_accuracy: 0.7598\n",
      "Epoch 123/150\n",
      "52/52 [==============================] - 0s 3ms/step - loss: 0.5421 - accuracy: 0.7257 - val_loss: 0.5177 - val_accuracy: 0.7441\n",
      "Epoch 124/150\n",
      "52/52 [==============================] - 0s 4ms/step - loss: 0.5175 - accuracy: 0.7529 - val_loss: 0.5258 - val_accuracy: 0.7441\n",
      "Epoch 125/150\n",
      "52/52 [==============================] - 0s 4ms/step - loss: 0.5401 - accuracy: 0.7335 - val_loss: 0.5319 - val_accuracy: 0.7362\n",
      "Epoch 126/150\n",
      "52/52 [==============================] - 0s 3ms/step - loss: 0.5447 - accuracy: 0.7296 - val_loss: 0.5457 - val_accuracy: 0.7362\n",
      "Epoch 127/150\n",
      "52/52 [==============================] - 0s 3ms/step - loss: 0.5365 - accuracy: 0.7121 - val_loss: 0.5184 - val_accuracy: 0.7480\n",
      "Epoch 128/150\n",
      "52/52 [==============================] - 0s 3ms/step - loss: 0.5158 - accuracy: 0.7374 - val_loss: 0.5217 - val_accuracy: 0.7520\n",
      "Epoch 129/150\n",
      "52/52 [==============================] - 0s 3ms/step - loss: 0.5359 - accuracy: 0.7451 - val_loss: 0.5500 - val_accuracy: 0.7205\n",
      "Epoch 130/150\n",
      "52/52 [==============================] - 0s 3ms/step - loss: 0.5243 - accuracy: 0.7412 - val_loss: 0.5192 - val_accuracy: 0.7480\n",
      "Epoch 131/150\n",
      "52/52 [==============================] - 0s 3ms/step - loss: 0.5614 - accuracy: 0.6984 - val_loss: 0.5937 - val_accuracy: 0.7126\n",
      "Epoch 132/150\n",
      "52/52 [==============================] - 0s 3ms/step - loss: 0.6322 - accuracy: 0.6868 - val_loss: 0.5684 - val_accuracy: 0.7165\n",
      "Epoch 133/150\n",
      "52/52 [==============================] - 0s 3ms/step - loss: 0.5259 - accuracy: 0.7393 - val_loss: 0.5300 - val_accuracy: 0.7480\n",
      "Epoch 134/150\n",
      "52/52 [==============================] - 0s 3ms/step - loss: 0.5349 - accuracy: 0.7354 - val_loss: 0.5324 - val_accuracy: 0.7480\n",
      "Epoch 135/150\n",
      "52/52 [==============================] - 0s 3ms/step - loss: 0.5220 - accuracy: 0.7510 - val_loss: 0.5421 - val_accuracy: 0.7441\n",
      "Epoch 136/150\n",
      "52/52 [==============================] - 0s 3ms/step - loss: 0.5118 - accuracy: 0.7568 - val_loss: 0.5554 - val_accuracy: 0.7323\n",
      "Epoch 137/150\n",
      "52/52 [==============================] - 0s 3ms/step - loss: 0.5395 - accuracy: 0.7315 - val_loss: 0.5984 - val_accuracy: 0.6732\n",
      "Epoch 138/150\n",
      "52/52 [==============================] - 0s 3ms/step - loss: 0.5267 - accuracy: 0.7335 - val_loss: 0.5333 - val_accuracy: 0.7598\n",
      "Epoch 139/150\n",
      "52/52 [==============================] - 0s 3ms/step - loss: 0.5275 - accuracy: 0.7568 - val_loss: 0.5556 - val_accuracy: 0.7008\n",
      "Epoch 140/150\n",
      "52/52 [==============================] - 0s 3ms/step - loss: 0.5212 - accuracy: 0.7432 - val_loss: 0.5282 - val_accuracy: 0.7559\n",
      "Epoch 141/150\n",
      "52/52 [==============================] - 0s 3ms/step - loss: 0.5383 - accuracy: 0.7374 - val_loss: 0.5225 - val_accuracy: 0.7402\n",
      "Epoch 142/150\n",
      "52/52 [==============================] - 0s 3ms/step - loss: 0.5190 - accuracy: 0.7451 - val_loss: 0.5200 - val_accuracy: 0.7480\n",
      "Epoch 143/150\n",
      "52/52 [==============================] - 0s 3ms/step - loss: 0.5544 - accuracy: 0.7218 - val_loss: 0.5165 - val_accuracy: 0.7717\n",
      "Epoch 144/150\n",
      "52/52 [==============================] - 0s 3ms/step - loss: 0.5403 - accuracy: 0.7296 - val_loss: 0.5325 - val_accuracy: 0.7205\n",
      "Epoch 145/150\n",
      "52/52 [==============================] - 0s 3ms/step - loss: 0.5437 - accuracy: 0.7335 - val_loss: 0.5443 - val_accuracy: 0.7165\n",
      "Epoch 146/150\n",
      "52/52 [==============================] - 0s 3ms/step - loss: 0.5329 - accuracy: 0.7237 - val_loss: 0.5559 - val_accuracy: 0.7126\n",
      "Epoch 147/150\n",
      "52/52 [==============================] - 0s 3ms/step - loss: 0.5239 - accuracy: 0.7490 - val_loss: 0.5245 - val_accuracy: 0.7323\n",
      "Epoch 148/150\n",
      "52/52 [==============================] - 0s 3ms/step - loss: 0.5060 - accuracy: 0.7568 - val_loss: 0.5347 - val_accuracy: 0.7205\n",
      "Epoch 149/150\n",
      "52/52 [==============================] - 0s 3ms/step - loss: 0.5327 - accuracy: 0.7374 - val_loss: 0.5194 - val_accuracy: 0.7441\n",
      "Epoch 150/150\n",
      "52/52 [==============================] - 0s 3ms/step - loss: 0.5094 - accuracy: 0.7568 - val_loss: 0.5306 - val_accuracy: 0.7244\n"
     ]
    },
    {
     "data": {
      "text/plain": [
       "<keras.callbacks.History at 0x1da371286a0>"
      ]
     },
     "execution_count": 9,
     "metadata": {},
     "output_type": "execute_result"
    }
   ],
   "source": [
    "# Fit the model\n",
    "model.fit(X, Y, validation_split=0.33, epochs=150, batch_size=10)"
   ]
  },
  {
   "cell_type": "code",
   "execution_count": 10,
   "metadata": {
    "ExecuteTime": {
     "end_time": "2021-09-14T04:24:18.936540Z",
     "start_time": "2021-09-14T04:24:18.567051Z"
    },
    "execution": {
     "iopub.execute_input": "2021-09-13T06:58:43.918250Z",
     "iopub.status.busy": "2021-09-13T06:58:43.917947Z",
     "iopub.status.idle": "2021-09-13T06:58:44.074361Z",
     "shell.execute_reply": "2021-09-13T06:58:44.073296Z",
     "shell.execute_reply.started": "2021-09-13T06:58:43.918221Z"
    }
   },
   "outputs": [
    {
     "name": "stdout",
     "output_type": "stream",
     "text": [
      "24/24 [==============================] - 0s 3ms/step - loss: 0.5191 - accuracy: 0.7474\n",
      "accuracy: 74.74%\n"
     ]
    }
   ],
   "source": [
    "# evaluate the model\n",
    "scores = model.evaluate(X, Y)\n",
    "print(\"%s: %.2f%%\" % (model.metrics_names[1], scores[1]*100))"
   ]
  },
  {
   "cell_type": "code",
   "execution_count": null,
   "metadata": {},
   "outputs": [],
   "source": []
  }
 ],
 "metadata": {
  "kernelspec": {
   "display_name": "Python 3",
   "language": "python",
   "name": "python3"
  },
  "language_info": {
   "codemirror_mode": {
    "name": "ipython",
    "version": 3
   },
   "file_extension": ".py",
   "mimetype": "text/x-python",
   "name": "python",
   "nbconvert_exporter": "python",
   "pygments_lexer": "ipython3",
   "version": "3.8.8"
  },
  "toc": {
   "base_numbering": 1,
   "nav_menu": {},
   "number_sections": true,
   "sideBar": true,
   "skip_h1_title": false,
   "title_cell": "Table of Contents",
   "title_sidebar": "Contents",
   "toc_cell": false,
   "toc_position": {},
   "toc_section_display": true,
   "toc_window_display": false
  }
 },
 "nbformat": 4,
 "nbformat_minor": 4
}
