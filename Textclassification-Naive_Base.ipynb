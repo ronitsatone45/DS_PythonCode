{
 "cells": [
  {
   "cell_type": "code",
   "execution_count": 1,
   "metadata": {
    "ExecuteTime": {
     "end_time": "2021-09-20T11:05:04.495502Z",
     "start_time": "2021-09-20T11:04:54.487247Z"
    },
    "execution": {
     "iopub.execute_input": "2021-09-20T06:49:53.655369Z",
     "iopub.status.busy": "2021-09-20T06:49:53.654700Z",
     "iopub.status.idle": "2021-09-20T06:49:53.696601Z",
     "shell.execute_reply": "2021-09-20T06:49:53.695519Z",
     "shell.execute_reply.started": "2021-09-20T06:49:53.655316Z"
    }
   },
   "outputs": [],
   "source": [
    "import pandas as pd\n",
    "data = pd.read_csv(\"Hamspam.csv\",encoding = \"ISO-8859-1\")"
   ]
  },
  {
   "cell_type": "code",
   "execution_count": 2,
   "metadata": {
    "ExecuteTime": {
     "end_time": "2021-09-20T11:05:06.590729Z",
     "start_time": "2021-09-20T11:05:06.275327Z"
    },
    "execution": {
     "iopub.execute_input": "2021-09-20T06:49:53.699654Z",
     "iopub.status.busy": "2021-09-20T06:49:53.699257Z",
     "iopub.status.idle": "2021-09-20T06:49:53.731359Z",
     "shell.execute_reply": "2021-09-20T06:49:53.729711Z",
     "shell.execute_reply.started": "2021-09-20T06:49:53.699602Z"
    },
    "scrolled": true
   },
   "outputs": [
    {
     "data": {
      "text/html": [
       "<div>\n",
       "<style scoped>\n",
       "    .dataframe tbody tr th:only-of-type {\n",
       "        vertical-align: middle;\n",
       "    }\n",
       "\n",
       "    .dataframe tbody tr th {\n",
       "        vertical-align: top;\n",
       "    }\n",
       "\n",
       "    .dataframe thead th {\n",
       "        text-align: right;\n",
       "    }\n",
       "</style>\n",
       "<table border=\"1\" class=\"dataframe\">\n",
       "  <thead>\n",
       "    <tr style=\"text-align: right;\">\n",
       "      <th></th>\n",
       "      <th>type</th>\n",
       "      <th>text</th>\n",
       "    </tr>\n",
       "  </thead>\n",
       "  <tbody>\n",
       "    <tr>\n",
       "      <th>0</th>\n",
       "      <td>ham</td>\n",
       "      <td>Hope you are having a good week. Just checking in</td>\n",
       "    </tr>\n",
       "    <tr>\n",
       "      <th>1</th>\n",
       "      <td>ham</td>\n",
       "      <td>K..give back my thanks.</td>\n",
       "    </tr>\n",
       "    <tr>\n",
       "      <th>2</th>\n",
       "      <td>ham</td>\n",
       "      <td>Am also doing in cbe only. But have to pay.</td>\n",
       "    </tr>\n",
       "    <tr>\n",
       "      <th>3</th>\n",
       "      <td>spam</td>\n",
       "      <td>complimentary 4 STAR Ibiza Holiday or å£10,000...</td>\n",
       "    </tr>\n",
       "    <tr>\n",
       "      <th>4</th>\n",
       "      <td>spam</td>\n",
       "      <td>okmail: Dear Dave this is your final notice to...</td>\n",
       "    </tr>\n",
       "  </tbody>\n",
       "</table>\n",
       "</div>"
      ],
      "text/plain": [
       "   type                                               text\n",
       "0   ham  Hope you are having a good week. Just checking in\n",
       "1   ham                            K..give back my thanks.\n",
       "2   ham        Am also doing in cbe only. But have to pay.\n",
       "3  spam  complimentary 4 STAR Ibiza Holiday or å£10,000...\n",
       "4  spam  okmail: Dear Dave this is your final notice to..."
      ]
     },
     "execution_count": 2,
     "metadata": {},
     "output_type": "execute_result"
    }
   ],
   "source": [
    "data.head()"
   ]
  },
  {
   "cell_type": "code",
   "execution_count": 3,
   "metadata": {
    "ExecuteTime": {
     "end_time": "2021-09-20T11:05:08.287556Z",
     "start_time": "2021-09-20T11:05:08.222834Z"
    },
    "execution": {
     "iopub.execute_input": "2021-09-20T06:49:53.734175Z",
     "iopub.status.busy": "2021-09-20T06:49:53.733807Z",
     "iopub.status.idle": "2021-09-20T06:49:53.745503Z",
     "shell.execute_reply": "2021-09-20T06:49:53.744268Z",
     "shell.execute_reply.started": "2021-09-20T06:49:53.734141Z"
    }
   },
   "outputs": [
    {
     "data": {
      "text/plain": [
       "type    0\n",
       "text    0\n",
       "dtype: int64"
      ]
     },
     "execution_count": 3,
     "metadata": {},
     "output_type": "execute_result"
    }
   ],
   "source": [
    "data.isnull().sum()"
   ]
  },
  {
   "cell_type": "code",
   "execution_count": 4,
   "metadata": {
    "ExecuteTime": {
     "end_time": "2021-09-20T11:05:09.246440Z",
     "start_time": "2021-09-20T11:05:09.076892Z"
    },
    "execution": {
     "iopub.execute_input": "2021-09-20T06:49:53.747264Z",
     "iopub.status.busy": "2021-09-20T06:49:53.746791Z",
     "iopub.status.idle": "2021-09-20T06:49:53.772065Z",
     "shell.execute_reply": "2021-09-20T06:49:53.770715Z",
     "shell.execute_reply.started": "2021-09-20T06:49:53.747227Z"
    }
   },
   "outputs": [
    {
     "name": "stdout",
     "output_type": "stream",
     "text": [
      "<class 'pandas.core.frame.DataFrame'>\n",
      "RangeIndex: 5559 entries, 0 to 5558\n",
      "Data columns (total 2 columns):\n",
      " #   Column  Non-Null Count  Dtype \n",
      "---  ------  --------------  ----- \n",
      " 0   type    5559 non-null   object\n",
      " 1   text    5559 non-null   object\n",
      "dtypes: object(2)\n",
      "memory usage: 87.0+ KB\n"
     ]
    }
   ],
   "source": [
    "data.info()"
   ]
  },
  {
   "cell_type": "markdown",
   "metadata": {},
   "source": [
    "# Data Cleaning"
   ]
  },
  {
   "cell_type": "code",
   "execution_count": 5,
   "metadata": {
    "ExecuteTime": {
     "end_time": "2021-09-20T11:05:11.344735Z",
     "start_time": "2021-09-20T11:05:11.324254Z"
    },
    "execution": {
     "iopub.execute_input": "2021-09-20T06:49:53.776974Z",
     "iopub.status.busy": "2021-09-20T06:49:53.776462Z",
     "iopub.status.idle": "2021-09-20T06:49:53.788313Z",
     "shell.execute_reply": "2021-09-20T06:49:53.786764Z",
     "shell.execute_reply.started": "2021-09-20T06:49:53.776930Z"
    }
   },
   "outputs": [],
   "source": [
    "import re #regular expression\n",
    "import string\n",
    "\n",
    "def clean_text(text):\n",
    "    '''Make text lowercase, remove text in square brackets, remove punctuation and remove words containing numbers.'''\n",
    "    text = text.lower()\n",
    "    text = re.sub('\\[.*?\\]', '', text)\n",
    "    text = re.sub('[%s]' % re.escape(string.punctuation), '', text)\n",
    "    text = re.sub('\\w*\\d\\w*', '', text)\n",
    "    text = re.sub(\"[0-9\" \"]+\",\" \",text)\n",
    "    text = re.sub('[‘’“”…]', '', text)\n",
    "    return text\n",
    "\n",
    "clean = lambda x: clean_text(x)\n"
   ]
  },
  {
   "cell_type": "code",
   "execution_count": 6,
   "metadata": {
    "ExecuteTime": {
     "end_time": "2021-09-20T11:05:13.623907Z",
     "start_time": "2021-09-20T11:05:13.234402Z"
    },
    "execution": {
     "iopub.execute_input": "2021-09-20T06:49:53.790803Z",
     "iopub.status.busy": "2021-09-20T06:49:53.790346Z",
     "iopub.status.idle": "2021-09-20T06:49:54.040001Z",
     "shell.execute_reply": "2021-09-20T06:49:54.038922Z",
     "shell.execute_reply.started": "2021-09-20T06:49:53.790747Z"
    }
   },
   "outputs": [
    {
     "data": {
      "text/plain": [
       "0        hope you are having a good week just checking in\n",
       "1                                    kgive back my thanks\n",
       "2               am also doing in cbe only but have to pay\n",
       "3       complimentary  star ibiza holiday or å£ cash n...\n",
       "4       okmail dear dave this is your final notice to ...\n",
       "                              ...                        \n",
       "5554    you are a great role model you are giving so m...\n",
       "5555    awesome i remember the last time we got somebo...\n",
       "5556    if you dont your prize will go to another cust...\n",
       "5557    sms ac jsco energy is high but u may not know ...\n",
       "5558                      shall call now dear having food\n",
       "Name: text, Length: 5559, dtype: object"
      ]
     },
     "execution_count": 6,
     "metadata": {},
     "output_type": "execute_result"
    }
   ],
   "source": [
    "data['text'] = data.text.apply(clean)\n",
    "data.text"
   ]
  },
  {
   "cell_type": "code",
   "execution_count": 7,
   "metadata": {
    "ExecuteTime": {
     "end_time": "2021-09-20T11:05:14.929474Z",
     "start_time": "2021-09-20T11:05:14.745254Z"
    },
    "execution": {
     "iopub.execute_input": "2021-09-20T06:49:54.041970Z",
     "iopub.status.busy": "2021-09-20T06:49:54.041589Z",
     "iopub.status.idle": "2021-09-20T06:49:54.111572Z",
     "shell.execute_reply": "2021-09-20T06:49:54.110481Z",
     "shell.execute_reply.started": "2021-09-20T06:49:54.041936Z"
    }
   },
   "outputs": [
    {
     "data": {
      "text/plain": [
       "to      2243\n",
       "i       2228\n",
       "you     2118\n",
       "a       1437\n",
       "the     1323\n",
       "u       1298\n",
       "and      965\n",
       "is       892\n",
       "in       886\n",
       "me       789\n",
       "my       753\n",
       "for      709\n",
       "your     659\n",
       "of       619\n",
       "it       616\n",
       "call     577\n",
       "have     575\n",
       "on       534\n",
       "that     509\n",
       "are      490\n",
       "dtype: int64"
      ]
     },
     "execution_count": 7,
     "metadata": {},
     "output_type": "execute_result"
    }
   ],
   "source": [
    "#Word frequency\n",
    "freq = pd.Series(' '.join(data['text']).split()).value_counts()[:20] # for top 20\n",
    "freq"
   ]
  },
  {
   "cell_type": "code",
   "execution_count": null,
   "metadata": {},
   "outputs": [],
   "source": [
    "# import nltk\n",
    "# nltk.download('stopwords')"
   ]
  },
  {
   "cell_type": "code",
   "execution_count": 8,
   "metadata": {
    "ExecuteTime": {
     "end_time": "2021-09-20T11:05:29.476876Z",
     "start_time": "2021-09-20T11:05:15.784185Z"
    },
    "execution": {
     "iopub.execute_input": "2021-09-20T06:49:54.113925Z",
     "iopub.status.busy": "2021-09-20T06:49:54.113309Z",
     "iopub.status.idle": "2021-09-20T06:49:56.342649Z",
     "shell.execute_reply": "2021-09-20T06:49:56.341694Z",
     "shell.execute_reply.started": "2021-09-20T06:49:54.113869Z"
    }
   },
   "outputs": [],
   "source": [
    "#removing stopwords\n",
    "from nltk.corpus import stopwords\n",
    "stop = stopwords.words('english')\n",
    "data['text'] = data['text'].apply(lambda x: \" \".join(x for x in x.split() if x not in stop))"
   ]
  },
  {
   "cell_type": "code",
   "execution_count": 9,
   "metadata": {
    "ExecuteTime": {
     "end_time": "2021-09-20T11:05:31.222873Z",
     "start_time": "2021-09-20T11:05:31.155514Z"
    },
    "execution": {
     "iopub.execute_input": "2021-09-20T06:49:56.344289Z",
     "iopub.status.busy": "2021-09-20T06:49:56.343860Z",
     "iopub.status.idle": "2021-09-20T06:49:56.396385Z",
     "shell.execute_reply": "2021-09-20T06:49:56.395442Z",
     "shell.execute_reply.started": "2021-09-20T06:49:56.344258Z"
    }
   },
   "outputs": [
    {
     "data": {
      "text/plain": [
       "u       1298\n",
       "call     577\n",
       "im       462\n",
       "ur       389\n",
       "get      384\n",
       "å£       293\n",
       "dont     287\n",
       "go       282\n",
       "ok       278\n",
       "free     275\n",
       "know     257\n",
       "like     244\n",
       "ill      239\n",
       "got      239\n",
       "good     236\n",
       "come     228\n",
       "time     214\n",
       "day      203\n",
       "love     197\n",
       "send     191\n",
       "dtype: int64"
      ]
     },
     "execution_count": 9,
     "metadata": {},
     "output_type": "execute_result"
    }
   ],
   "source": [
    "#word frequency after removal of stopwords\n",
    "freq_Sw = pd.Series(' '.join(data['text']).split()).value_counts()[:20] # for top 20\n",
    "freq_Sw"
   ]
  },
  {
   "cell_type": "code",
   "execution_count": 10,
   "metadata": {
    "ExecuteTime": {
     "end_time": "2021-09-20T11:05:32.821558Z",
     "start_time": "2021-09-20T11:05:32.289538Z"
    },
    "execution": {
     "iopub.execute_input": "2021-09-20T06:49:56.398163Z",
     "iopub.status.busy": "2021-09-20T06:49:56.397804Z",
     "iopub.status.idle": "2021-09-20T06:49:56.564325Z",
     "shell.execute_reply": "2021-09-20T06:49:56.563160Z",
     "shell.execute_reply.started": "2021-09-20T06:49:56.398127Z"
    }
   },
   "outputs": [],
   "source": [
    "# count vectoriser tells the frequency of a word.\n",
    "from sklearn.feature_extraction.text import CountVectorizer\n",
    "import numpy as np\n",
    "vectorizer = CountVectorizer(min_df = 1, max_df = 0.9)\n",
    "X = vectorizer.fit_transform(data[\"text\"])\n",
    "word_freq_df = pd.DataFrame({'term': vectorizer.get_feature_names(), 'occurrences':np.asarray(X.sum(axis=0)).ravel().tolist()})\n",
    "word_freq_df['frequency'] = word_freq_df['occurrences']/np.sum(word_freq_df['occurrences'])\n",
    "#print(word_freq_df.sort('occurrences',ascending = False).head())"
   ]
  },
  {
   "cell_type": "code",
   "execution_count": 11,
   "metadata": {
    "ExecuteTime": {
     "end_time": "2021-09-20T11:05:33.328615Z",
     "start_time": "2021-09-20T11:05:33.297501Z"
    },
    "execution": {
     "iopub.execute_input": "2021-09-20T06:49:56.568456Z",
     "iopub.status.busy": "2021-09-20T06:49:56.567864Z",
     "iopub.status.idle": "2021-09-20T06:49:56.584577Z",
     "shell.execute_reply": "2021-09-20T06:49:56.583604Z",
     "shell.execute_reply.started": "2021-09-20T06:49:56.568390Z"
    }
   },
   "outputs": [
    {
     "data": {
      "text/html": [
       "<div>\n",
       "<style scoped>\n",
       "    .dataframe tbody tr th:only-of-type {\n",
       "        vertical-align: middle;\n",
       "    }\n",
       "\n",
       "    .dataframe tbody tr th {\n",
       "        vertical-align: top;\n",
       "    }\n",
       "\n",
       "    .dataframe thead th {\n",
       "        text-align: right;\n",
       "    }\n",
       "</style>\n",
       "<table border=\"1\" class=\"dataframe\">\n",
       "  <thead>\n",
       "    <tr style=\"text-align: right;\">\n",
       "      <th></th>\n",
       "      <th>term</th>\n",
       "      <th>occurrences</th>\n",
       "      <th>frequency</th>\n",
       "    </tr>\n",
       "  </thead>\n",
       "  <tbody>\n",
       "    <tr>\n",
       "      <th>0</th>\n",
       "      <td>aa</td>\n",
       "      <td>1</td>\n",
       "      <td>0.000022</td>\n",
       "    </tr>\n",
       "    <tr>\n",
       "      <th>1</th>\n",
       "      <td>aah</td>\n",
       "      <td>3</td>\n",
       "      <td>0.000065</td>\n",
       "    </tr>\n",
       "    <tr>\n",
       "      <th>2</th>\n",
       "      <td>aaniye</td>\n",
       "      <td>1</td>\n",
       "      <td>0.000022</td>\n",
       "    </tr>\n",
       "    <tr>\n",
       "      <th>3</th>\n",
       "      <td>aaooooright</td>\n",
       "      <td>1</td>\n",
       "      <td>0.000022</td>\n",
       "    </tr>\n",
       "    <tr>\n",
       "      <th>4</th>\n",
       "      <td>aathilove</td>\n",
       "      <td>3</td>\n",
       "      <td>0.000065</td>\n",
       "    </tr>\n",
       "    <tr>\n",
       "      <th>5</th>\n",
       "      <td>aathiwhere</td>\n",
       "      <td>3</td>\n",
       "      <td>0.000065</td>\n",
       "    </tr>\n",
       "    <tr>\n",
       "      <th>6</th>\n",
       "      <td>ab</td>\n",
       "      <td>1</td>\n",
       "      <td>0.000022</td>\n",
       "    </tr>\n",
       "    <tr>\n",
       "      <th>7</th>\n",
       "      <td>abbey</td>\n",
       "      <td>1</td>\n",
       "      <td>0.000022</td>\n",
       "    </tr>\n",
       "    <tr>\n",
       "      <th>8</th>\n",
       "      <td>abdomen</td>\n",
       "      <td>1</td>\n",
       "      <td>0.000022</td>\n",
       "    </tr>\n",
       "    <tr>\n",
       "      <th>9</th>\n",
       "      <td>abeg</td>\n",
       "      <td>1</td>\n",
       "      <td>0.000022</td>\n",
       "    </tr>\n",
       "    <tr>\n",
       "      <th>10</th>\n",
       "      <td>abelu</td>\n",
       "      <td>1</td>\n",
       "      <td>0.000022</td>\n",
       "    </tr>\n",
       "    <tr>\n",
       "      <th>11</th>\n",
       "      <td>aberdeen</td>\n",
       "      <td>1</td>\n",
       "      <td>0.000022</td>\n",
       "    </tr>\n",
       "    <tr>\n",
       "      <th>12</th>\n",
       "      <td>abi</td>\n",
       "      <td>4</td>\n",
       "      <td>0.000087</td>\n",
       "    </tr>\n",
       "    <tr>\n",
       "      <th>13</th>\n",
       "      <td>ability</td>\n",
       "      <td>2</td>\n",
       "      <td>0.000043</td>\n",
       "    </tr>\n",
       "    <tr>\n",
       "      <th>14</th>\n",
       "      <td>abiola</td>\n",
       "      <td>11</td>\n",
       "      <td>0.000239</td>\n",
       "    </tr>\n",
       "    <tr>\n",
       "      <th>15</th>\n",
       "      <td>abj</td>\n",
       "      <td>2</td>\n",
       "      <td>0.000043</td>\n",
       "    </tr>\n",
       "    <tr>\n",
       "      <th>16</th>\n",
       "      <td>able</td>\n",
       "      <td>26</td>\n",
       "      <td>0.000565</td>\n",
       "    </tr>\n",
       "    <tr>\n",
       "      <th>17</th>\n",
       "      <td>abnormally</td>\n",
       "      <td>1</td>\n",
       "      <td>0.000022</td>\n",
       "    </tr>\n",
       "    <tr>\n",
       "      <th>18</th>\n",
       "      <td>aboutas</td>\n",
       "      <td>1</td>\n",
       "      <td>0.000022</td>\n",
       "    </tr>\n",
       "    <tr>\n",
       "      <th>19</th>\n",
       "      <td>abroad</td>\n",
       "      <td>1</td>\n",
       "      <td>0.000022</td>\n",
       "    </tr>\n",
       "    <tr>\n",
       "      <th>20</th>\n",
       "      <td>absence</td>\n",
       "      <td>1</td>\n",
       "      <td>0.000022</td>\n",
       "    </tr>\n",
       "    <tr>\n",
       "      <th>21</th>\n",
       "      <td>absolutely</td>\n",
       "      <td>1</td>\n",
       "      <td>0.000022</td>\n",
       "    </tr>\n",
       "    <tr>\n",
       "      <th>22</th>\n",
       "      <td>abstract</td>\n",
       "      <td>1</td>\n",
       "      <td>0.000022</td>\n",
       "    </tr>\n",
       "    <tr>\n",
       "      <th>23</th>\n",
       "      <td>abt</td>\n",
       "      <td>26</td>\n",
       "      <td>0.000565</td>\n",
       "    </tr>\n",
       "    <tr>\n",
       "      <th>24</th>\n",
       "      <td>abta</td>\n",
       "      <td>3</td>\n",
       "      <td>0.000065</td>\n",
       "    </tr>\n",
       "    <tr>\n",
       "      <th>25</th>\n",
       "      <td>aburo</td>\n",
       "      <td>2</td>\n",
       "      <td>0.000043</td>\n",
       "    </tr>\n",
       "    <tr>\n",
       "      <th>26</th>\n",
       "      <td>abuse</td>\n",
       "      <td>1</td>\n",
       "      <td>0.000022</td>\n",
       "    </tr>\n",
       "    <tr>\n",
       "      <th>27</th>\n",
       "      <td>abusers</td>\n",
       "      <td>1</td>\n",
       "      <td>0.000022</td>\n",
       "    </tr>\n",
       "    <tr>\n",
       "      <th>28</th>\n",
       "      <td>ac</td>\n",
       "      <td>4</td>\n",
       "      <td>0.000087</td>\n",
       "    </tr>\n",
       "    <tr>\n",
       "      <th>29</th>\n",
       "      <td>academic</td>\n",
       "      <td>2</td>\n",
       "      <td>0.000043</td>\n",
       "    </tr>\n",
       "  </tbody>\n",
       "</table>\n",
       "</div>"
      ],
      "text/plain": [
       "           term  occurrences  frequency\n",
       "0            aa            1   0.000022\n",
       "1           aah            3   0.000065\n",
       "2        aaniye            1   0.000022\n",
       "3   aaooooright            1   0.000022\n",
       "4     aathilove            3   0.000065\n",
       "5    aathiwhere            3   0.000065\n",
       "6            ab            1   0.000022\n",
       "7         abbey            1   0.000022\n",
       "8       abdomen            1   0.000022\n",
       "9          abeg            1   0.000022\n",
       "10        abelu            1   0.000022\n",
       "11     aberdeen            1   0.000022\n",
       "12          abi            4   0.000087\n",
       "13      ability            2   0.000043\n",
       "14       abiola           11   0.000239\n",
       "15          abj            2   0.000043\n",
       "16         able           26   0.000565\n",
       "17   abnormally            1   0.000022\n",
       "18      aboutas            1   0.000022\n",
       "19       abroad            1   0.000022\n",
       "20      absence            1   0.000022\n",
       "21   absolutely            1   0.000022\n",
       "22     abstract            1   0.000022\n",
       "23          abt           26   0.000565\n",
       "24         abta            3   0.000065\n",
       "25        aburo            2   0.000043\n",
       "26        abuse            1   0.000022\n",
       "27      abusers            1   0.000022\n",
       "28           ac            4   0.000087\n",
       "29     academic            2   0.000043"
      ]
     },
     "execution_count": 11,
     "metadata": {},
     "output_type": "execute_result"
    }
   ],
   "source": [
    "word_freq_df.head(30)"
   ]
  },
  {
   "cell_type": "code",
   "execution_count": 12,
   "metadata": {
    "ExecuteTime": {
     "end_time": "2021-09-20T11:05:38.268704Z",
     "start_time": "2021-09-20T11:05:35.254888Z"
    },
    "execution": {
     "iopub.execute_input": "2021-09-20T06:49:56.587771Z",
     "iopub.status.busy": "2021-09-20T06:49:56.587411Z",
     "iopub.status.idle": "2021-09-20T06:49:59.334749Z",
     "shell.execute_reply": "2021-09-20T06:49:59.333557Z",
     "shell.execute_reply.started": "2021-09-20T06:49:56.587735Z"
    }
   },
   "outputs": [],
   "source": [
    "#TFIDF - Term frequency inverse Document Frequencyt\n",
    "from sklearn.feature_extraction.text import TfidfVectorizer\n",
    "vectorizer = TfidfVectorizer(stop_words='english', max_features= 1000, max_df = 0.5, smooth_idf=True) #keep top 1000 words\n",
    "doc_vec = vectorizer.fit_transform(data[\"text\"])\n",
    "names_features = vectorizer.get_feature_names()\n",
    "dense = doc_vec.todense()\n",
    "denselist = dense.tolist()\n",
    "df = pd.DataFrame(denselist, columns = names_features)"
   ]
  },
  {
   "cell_type": "code",
   "execution_count": 13,
   "metadata": {
    "ExecuteTime": {
     "end_time": "2021-09-20T11:05:38.405412Z",
     "start_time": "2021-09-20T11:05:38.268704Z"
    },
    "execution": {
     "iopub.execute_input": "2021-09-20T06:49:59.336592Z",
     "iopub.status.busy": "2021-09-20T06:49:59.336242Z",
     "iopub.status.idle": "2021-09-20T06:49:59.377976Z",
     "shell.execute_reply": "2021-09-20T06:49:59.376862Z",
     "shell.execute_reply.started": "2021-09-20T06:49:59.336554Z"
    }
   },
   "outputs": [
    {
     "data": {
      "text/html": [
       "<div>\n",
       "<style scoped>\n",
       "    .dataframe tbody tr th:only-of-type {\n",
       "        vertical-align: middle;\n",
       "    }\n",
       "\n",
       "    .dataframe tbody tr th {\n",
       "        vertical-align: top;\n",
       "    }\n",
       "\n",
       "    .dataframe thead th {\n",
       "        text-align: right;\n",
       "    }\n",
       "</style>\n",
       "<table border=\"1\" class=\"dataframe\">\n",
       "  <thead>\n",
       "    <tr style=\"text-align: right;\">\n",
       "      <th></th>\n",
       "      <th>abiola</th>\n",
       "      <th>able</th>\n",
       "      <th>abt</th>\n",
       "      <th>accept</th>\n",
       "      <th>access</th>\n",
       "      <th>account</th>\n",
       "      <th>actually</th>\n",
       "      <th>add</th>\n",
       "      <th>address</th>\n",
       "      <th>admirer</th>\n",
       "      <th>...</th>\n",
       "      <th>youve</th>\n",
       "      <th>yr</th>\n",
       "      <th>yrs</th>\n",
       "      <th>yup</th>\n",
       "      <th>ââ</th>\n",
       "      <th>ââèïs</th>\n",
       "      <th>ââèït</th>\n",
       "      <th>ûªs</th>\n",
       "      <th>ûªt</th>\n",
       "      <th>ûï</th>\n",
       "    </tr>\n",
       "  </thead>\n",
       "  <tbody>\n",
       "    <tr>\n",
       "      <th>0</th>\n",
       "      <td>0.0</td>\n",
       "      <td>0.0</td>\n",
       "      <td>0.0</td>\n",
       "      <td>0.0</td>\n",
       "      <td>0.0</td>\n",
       "      <td>0.0</td>\n",
       "      <td>0.0</td>\n",
       "      <td>0.0</td>\n",
       "      <td>0.0</td>\n",
       "      <td>0.0</td>\n",
       "      <td>...</td>\n",
       "      <td>0.0</td>\n",
       "      <td>0.0</td>\n",
       "      <td>0.0</td>\n",
       "      <td>0.0</td>\n",
       "      <td>0.0</td>\n",
       "      <td>0.0</td>\n",
       "      <td>0.0</td>\n",
       "      <td>0.0</td>\n",
       "      <td>0.0</td>\n",
       "      <td>0.0</td>\n",
       "    </tr>\n",
       "    <tr>\n",
       "      <th>1</th>\n",
       "      <td>0.0</td>\n",
       "      <td>0.0</td>\n",
       "      <td>0.0</td>\n",
       "      <td>0.0</td>\n",
       "      <td>0.0</td>\n",
       "      <td>0.0</td>\n",
       "      <td>0.0</td>\n",
       "      <td>0.0</td>\n",
       "      <td>0.0</td>\n",
       "      <td>0.0</td>\n",
       "      <td>...</td>\n",
       "      <td>0.0</td>\n",
       "      <td>0.0</td>\n",
       "      <td>0.0</td>\n",
       "      <td>0.0</td>\n",
       "      <td>0.0</td>\n",
       "      <td>0.0</td>\n",
       "      <td>0.0</td>\n",
       "      <td>0.0</td>\n",
       "      <td>0.0</td>\n",
       "      <td>0.0</td>\n",
       "    </tr>\n",
       "    <tr>\n",
       "      <th>2</th>\n",
       "      <td>0.0</td>\n",
       "      <td>0.0</td>\n",
       "      <td>0.0</td>\n",
       "      <td>0.0</td>\n",
       "      <td>0.0</td>\n",
       "      <td>0.0</td>\n",
       "      <td>0.0</td>\n",
       "      <td>0.0</td>\n",
       "      <td>0.0</td>\n",
       "      <td>0.0</td>\n",
       "      <td>...</td>\n",
       "      <td>0.0</td>\n",
       "      <td>0.0</td>\n",
       "      <td>0.0</td>\n",
       "      <td>0.0</td>\n",
       "      <td>0.0</td>\n",
       "      <td>0.0</td>\n",
       "      <td>0.0</td>\n",
       "      <td>0.0</td>\n",
       "      <td>0.0</td>\n",
       "      <td>0.0</td>\n",
       "    </tr>\n",
       "    <tr>\n",
       "      <th>3</th>\n",
       "      <td>0.0</td>\n",
       "      <td>0.0</td>\n",
       "      <td>0.0</td>\n",
       "      <td>0.0</td>\n",
       "      <td>0.0</td>\n",
       "      <td>0.0</td>\n",
       "      <td>0.0</td>\n",
       "      <td>0.0</td>\n",
       "      <td>0.0</td>\n",
       "      <td>0.0</td>\n",
       "      <td>...</td>\n",
       "      <td>0.0</td>\n",
       "      <td>0.0</td>\n",
       "      <td>0.0</td>\n",
       "      <td>0.0</td>\n",
       "      <td>0.0</td>\n",
       "      <td>0.0</td>\n",
       "      <td>0.0</td>\n",
       "      <td>0.0</td>\n",
       "      <td>0.0</td>\n",
       "      <td>0.0</td>\n",
       "    </tr>\n",
       "    <tr>\n",
       "      <th>4</th>\n",
       "      <td>0.0</td>\n",
       "      <td>0.0</td>\n",
       "      <td>0.0</td>\n",
       "      <td>0.0</td>\n",
       "      <td>0.0</td>\n",
       "      <td>0.0</td>\n",
       "      <td>0.0</td>\n",
       "      <td>0.0</td>\n",
       "      <td>0.0</td>\n",
       "      <td>0.0</td>\n",
       "      <td>...</td>\n",
       "      <td>0.0</td>\n",
       "      <td>0.0</td>\n",
       "      <td>0.0</td>\n",
       "      <td>0.0</td>\n",
       "      <td>0.0</td>\n",
       "      <td>0.0</td>\n",
       "      <td>0.0</td>\n",
       "      <td>0.0</td>\n",
       "      <td>0.0</td>\n",
       "      <td>0.0</td>\n",
       "    </tr>\n",
       "    <tr>\n",
       "      <th>...</th>\n",
       "      <td>...</td>\n",
       "      <td>...</td>\n",
       "      <td>...</td>\n",
       "      <td>...</td>\n",
       "      <td>...</td>\n",
       "      <td>...</td>\n",
       "      <td>...</td>\n",
       "      <td>...</td>\n",
       "      <td>...</td>\n",
       "      <td>...</td>\n",
       "      <td>...</td>\n",
       "      <td>...</td>\n",
       "      <td>...</td>\n",
       "      <td>...</td>\n",
       "      <td>...</td>\n",
       "      <td>...</td>\n",
       "      <td>...</td>\n",
       "      <td>...</td>\n",
       "      <td>...</td>\n",
       "      <td>...</td>\n",
       "      <td>...</td>\n",
       "    </tr>\n",
       "    <tr>\n",
       "      <th>5554</th>\n",
       "      <td>0.0</td>\n",
       "      <td>0.0</td>\n",
       "      <td>0.0</td>\n",
       "      <td>0.0</td>\n",
       "      <td>0.0</td>\n",
       "      <td>0.0</td>\n",
       "      <td>0.0</td>\n",
       "      <td>0.0</td>\n",
       "      <td>0.0</td>\n",
       "      <td>0.0</td>\n",
       "      <td>...</td>\n",
       "      <td>0.0</td>\n",
       "      <td>0.0</td>\n",
       "      <td>0.0</td>\n",
       "      <td>0.0</td>\n",
       "      <td>0.0</td>\n",
       "      <td>0.0</td>\n",
       "      <td>0.0</td>\n",
       "      <td>0.0</td>\n",
       "      <td>0.0</td>\n",
       "      <td>0.0</td>\n",
       "    </tr>\n",
       "    <tr>\n",
       "      <th>5555</th>\n",
       "      <td>0.0</td>\n",
       "      <td>0.0</td>\n",
       "      <td>0.0</td>\n",
       "      <td>0.0</td>\n",
       "      <td>0.0</td>\n",
       "      <td>0.0</td>\n",
       "      <td>0.0</td>\n",
       "      <td>0.0</td>\n",
       "      <td>0.0</td>\n",
       "      <td>0.0</td>\n",
       "      <td>...</td>\n",
       "      <td>0.0</td>\n",
       "      <td>0.0</td>\n",
       "      <td>0.0</td>\n",
       "      <td>0.0</td>\n",
       "      <td>0.0</td>\n",
       "      <td>0.0</td>\n",
       "      <td>0.0</td>\n",
       "      <td>0.0</td>\n",
       "      <td>0.0</td>\n",
       "      <td>0.0</td>\n",
       "    </tr>\n",
       "    <tr>\n",
       "      <th>5556</th>\n",
       "      <td>0.0</td>\n",
       "      <td>0.0</td>\n",
       "      <td>0.0</td>\n",
       "      <td>0.0</td>\n",
       "      <td>0.0</td>\n",
       "      <td>0.0</td>\n",
       "      <td>0.0</td>\n",
       "      <td>0.0</td>\n",
       "      <td>0.0</td>\n",
       "      <td>0.0</td>\n",
       "      <td>...</td>\n",
       "      <td>0.0</td>\n",
       "      <td>0.0</td>\n",
       "      <td>0.0</td>\n",
       "      <td>0.0</td>\n",
       "      <td>0.0</td>\n",
       "      <td>0.0</td>\n",
       "      <td>0.0</td>\n",
       "      <td>0.0</td>\n",
       "      <td>0.0</td>\n",
       "      <td>0.0</td>\n",
       "    </tr>\n",
       "    <tr>\n",
       "      <th>5557</th>\n",
       "      <td>0.0</td>\n",
       "      <td>0.0</td>\n",
       "      <td>0.0</td>\n",
       "      <td>0.0</td>\n",
       "      <td>0.0</td>\n",
       "      <td>0.0</td>\n",
       "      <td>0.0</td>\n",
       "      <td>0.0</td>\n",
       "      <td>0.0</td>\n",
       "      <td>0.0</td>\n",
       "      <td>...</td>\n",
       "      <td>0.0</td>\n",
       "      <td>0.0</td>\n",
       "      <td>0.0</td>\n",
       "      <td>0.0</td>\n",
       "      <td>0.0</td>\n",
       "      <td>0.0</td>\n",
       "      <td>0.0</td>\n",
       "      <td>0.0</td>\n",
       "      <td>0.0</td>\n",
       "      <td>0.0</td>\n",
       "    </tr>\n",
       "    <tr>\n",
       "      <th>5558</th>\n",
       "      <td>0.0</td>\n",
       "      <td>0.0</td>\n",
       "      <td>0.0</td>\n",
       "      <td>0.0</td>\n",
       "      <td>0.0</td>\n",
       "      <td>0.0</td>\n",
       "      <td>0.0</td>\n",
       "      <td>0.0</td>\n",
       "      <td>0.0</td>\n",
       "      <td>0.0</td>\n",
       "      <td>...</td>\n",
       "      <td>0.0</td>\n",
       "      <td>0.0</td>\n",
       "      <td>0.0</td>\n",
       "      <td>0.0</td>\n",
       "      <td>0.0</td>\n",
       "      <td>0.0</td>\n",
       "      <td>0.0</td>\n",
       "      <td>0.0</td>\n",
       "      <td>0.0</td>\n",
       "      <td>0.0</td>\n",
       "    </tr>\n",
       "  </tbody>\n",
       "</table>\n",
       "<p>5559 rows × 1000 columns</p>\n",
       "</div>"
      ],
      "text/plain": [
       "      abiola  able  abt  accept  access  account  actually  add  address  \\\n",
       "0        0.0   0.0  0.0     0.0     0.0      0.0       0.0  0.0      0.0   \n",
       "1        0.0   0.0  0.0     0.0     0.0      0.0       0.0  0.0      0.0   \n",
       "2        0.0   0.0  0.0     0.0     0.0      0.0       0.0  0.0      0.0   \n",
       "3        0.0   0.0  0.0     0.0     0.0      0.0       0.0  0.0      0.0   \n",
       "4        0.0   0.0  0.0     0.0     0.0      0.0       0.0  0.0      0.0   \n",
       "...      ...   ...  ...     ...     ...      ...       ...  ...      ...   \n",
       "5554     0.0   0.0  0.0     0.0     0.0      0.0       0.0  0.0      0.0   \n",
       "5555     0.0   0.0  0.0     0.0     0.0      0.0       0.0  0.0      0.0   \n",
       "5556     0.0   0.0  0.0     0.0     0.0      0.0       0.0  0.0      0.0   \n",
       "5557     0.0   0.0  0.0     0.0     0.0      0.0       0.0  0.0      0.0   \n",
       "5558     0.0   0.0  0.0     0.0     0.0      0.0       0.0  0.0      0.0   \n",
       "\n",
       "      admirer  ...  youve   yr  yrs  yup   ââ  ââèïs  ââèït  ûªs  ûªt   ûï  \n",
       "0         0.0  ...    0.0  0.0  0.0  0.0  0.0    0.0    0.0  0.0  0.0  0.0  \n",
       "1         0.0  ...    0.0  0.0  0.0  0.0  0.0    0.0    0.0  0.0  0.0  0.0  \n",
       "2         0.0  ...    0.0  0.0  0.0  0.0  0.0    0.0    0.0  0.0  0.0  0.0  \n",
       "3         0.0  ...    0.0  0.0  0.0  0.0  0.0    0.0    0.0  0.0  0.0  0.0  \n",
       "4         0.0  ...    0.0  0.0  0.0  0.0  0.0    0.0    0.0  0.0  0.0  0.0  \n",
       "...       ...  ...    ...  ...  ...  ...  ...    ...    ...  ...  ...  ...  \n",
       "5554      0.0  ...    0.0  0.0  0.0  0.0  0.0    0.0    0.0  0.0  0.0  0.0  \n",
       "5555      0.0  ...    0.0  0.0  0.0  0.0  0.0    0.0    0.0  0.0  0.0  0.0  \n",
       "5556      0.0  ...    0.0  0.0  0.0  0.0  0.0    0.0    0.0  0.0  0.0  0.0  \n",
       "5557      0.0  ...    0.0  0.0  0.0  0.0  0.0    0.0    0.0  0.0  0.0  0.0  \n",
       "5558      0.0  ...    0.0  0.0  0.0  0.0  0.0    0.0    0.0  0.0  0.0  0.0  \n",
       "\n",
       "[5559 rows x 1000 columns]"
      ]
     },
     "execution_count": 13,
     "metadata": {},
     "output_type": "execute_result"
    }
   ],
   "source": [
    "df"
   ]
  },
  {
   "cell_type": "markdown",
   "metadata": {},
   "source": [
    "# N-gram"
   ]
  },
  {
   "cell_type": "code",
   "execution_count": 14,
   "metadata": {
    "ExecuteTime": {
     "end_time": "2021-09-20T11:05:40.803247Z",
     "start_time": "2021-09-20T11:05:40.783906Z"
    },
    "execution": {
     "iopub.execute_input": "2021-09-20T06:49:59.379842Z",
     "iopub.status.busy": "2021-09-20T06:49:59.379512Z",
     "iopub.status.idle": "2021-09-20T06:49:59.389496Z",
     "shell.execute_reply": "2021-09-20T06:49:59.388135Z",
     "shell.execute_reply.started": "2021-09-20T06:49:59.379809Z"
    }
   },
   "outputs": [],
   "source": [
    "#Bi-gram\n",
    "def get_top_n2_words(corpus, n=None):\n",
    "    vec1 = CountVectorizer(ngram_range=(2,2),  #for tri-gram, put ngram_range=(3,3)\n",
    "            max_features=2000).fit(corpus)\n",
    "    bag_of_words = vec1.transform(corpus)\n",
    "    sum_words = bag_of_words.sum(axis=0) \n",
    "    words_freq = [(word, sum_words[0, idx]) for word, idx in     \n",
    "                  vec1.vocabulary_.items()]\n",
    "    words_freq =sorted(words_freq, key = lambda x: x[1], \n",
    "                reverse=True)\n",
    "    return words_freq[:n]"
   ]
  },
  {
   "cell_type": "code",
   "execution_count": 15,
   "metadata": {
    "ExecuteTime": {
     "end_time": "2021-09-20T11:05:42.421479Z",
     "start_time": "2021-09-20T11:05:41.800829Z"
    },
    "execution": {
     "iopub.execute_input": "2021-09-20T06:49:59.391311Z",
     "iopub.status.busy": "2021-09-20T06:49:59.390953Z",
     "iopub.status.idle": "2021-09-20T06:49:59.756310Z",
     "shell.execute_reply": "2021-09-20T06:49:59.755014Z",
     "shell.execute_reply.started": "2021-09-20T06:49:59.391260Z"
    }
   },
   "outputs": [
    {
     "data": {
      "text/html": [
       "<div>\n",
       "<style scoped>\n",
       "    .dataframe tbody tr th:only-of-type {\n",
       "        vertical-align: middle;\n",
       "    }\n",
       "\n",
       "    .dataframe tbody tr th {\n",
       "        vertical-align: top;\n",
       "    }\n",
       "\n",
       "    .dataframe thead th {\n",
       "        text-align: right;\n",
       "    }\n",
       "</style>\n",
       "<table border=\"1\" class=\"dataframe\">\n",
       "  <thead>\n",
       "    <tr style=\"text-align: right;\">\n",
       "      <th></th>\n",
       "      <th>Bi-gram</th>\n",
       "      <th>Freq</th>\n",
       "    </tr>\n",
       "  </thead>\n",
       "  <tbody>\n",
       "    <tr>\n",
       "      <th>0</th>\n",
       "      <td>please call</td>\n",
       "      <td>53</td>\n",
       "    </tr>\n",
       "    <tr>\n",
       "      <th>1</th>\n",
       "      <td>call later</td>\n",
       "      <td>50</td>\n",
       "    </tr>\n",
       "    <tr>\n",
       "      <th>2</th>\n",
       "      <td>ill call</td>\n",
       "      <td>48</td>\n",
       "    </tr>\n",
       "    <tr>\n",
       "      <th>3</th>\n",
       "      <td>let know</td>\n",
       "      <td>40</td>\n",
       "    </tr>\n",
       "    <tr>\n",
       "      <th>4</th>\n",
       "      <td>sorry ill</td>\n",
       "      <td>39</td>\n",
       "    </tr>\n",
       "  </tbody>\n",
       "</table>\n",
       "</div>"
      ],
      "text/plain": [
       "       Bi-gram  Freq\n",
       "0  please call    53\n",
       "1   call later    50\n",
       "2     ill call    48\n",
       "3     let know    40\n",
       "4    sorry ill    39"
      ]
     },
     "execution_count": 15,
     "metadata": {},
     "output_type": "execute_result"
    }
   ],
   "source": [
    "top2_words = get_top_n2_words(data[\"text\"], n=200) #top 200\n",
    "top2_df = pd.DataFrame(top2_words)\n",
    "top2_df.columns=[\"Bi-gram\", \"Freq\"]\n",
    "top2_df.head()"
   ]
  },
  {
   "cell_type": "code",
   "execution_count": 16,
   "metadata": {
    "ExecuteTime": {
     "end_time": "2021-09-20T11:05:47.277088Z",
     "start_time": "2021-09-20T11:05:42.767668Z"
    },
    "execution": {
     "iopub.execute_input": "2021-09-20T06:49:59.758391Z",
     "iopub.status.busy": "2021-09-20T06:49:59.758057Z",
     "iopub.status.idle": "2021-09-20T06:50:00.249248Z",
     "shell.execute_reply": "2021-09-20T06:50:00.247774Z",
     "shell.execute_reply.started": "2021-09-20T06:49:59.758358Z"
    }
   },
   "outputs": [
    {
     "data": {
      "text/plain": [
       "[Text(0, 0, 'please call'),\n",
       " Text(1, 0, 'call later'),\n",
       " Text(2, 0, 'ill call'),\n",
       " Text(3, 0, 'let know'),\n",
       " Text(4, 0, 'sorry ill'),\n",
       " Text(5, 0, 'dont know'),\n",
       " Text(6, 0, 'good morning'),\n",
       " Text(7, 0, 'po box'),\n",
       " Text(8, 0, 'call landline'),\n",
       " Text(9, 0, 'take care'),\n",
       " Text(10, 0, 'im going'),\n",
       " Text(11, 0, 'guaranteed call'),\n",
       " Text(12, 0, 'new year'),\n",
       " Text(13, 0, 'prize guaranteed'),\n",
       " Text(14, 0, 'ok lor'),\n",
       " Text(15, 0, 'pls send'),\n",
       " Text(16, 0, 'every week'),\n",
       " Text(17, 0, 'send stop'),\n",
       " Text(18, 0, 'good night'),\n",
       " Text(19, 0, 'im gonna')]"
      ]
     },
     "execution_count": 16,
     "metadata": {},
     "output_type": "execute_result"
    },
    {
     "data": {
      "image/png": "[encoded data removed]",
      "text/plain": [
       "<Figure size 720x360 with 1 Axes>"
      ]
     },
     "metadata": {
      "needs_background": "light"
     },
     "output_type": "display_data"
    }
   ],
   "source": [
    "#Bi-gram plot\n",
    "import matplotlib.pyplot as plt\n",
    "import seaborn as sns\n",
    "top20_bigram = top2_df.iloc[0:20,:]\n",
    "fig = plt.figure(figsize = (10, 5))\n",
    "plot=sns.barplot(x=top20_bigram[\"Bi-gram\"],y=top20_bigram[\"Freq\"])\n",
    "plot.set_xticklabels(rotation=45,labels = top20_bigram[\"Bi-gram\"])"
   ]
  },
  {
   "cell_type": "code",
   "execution_count": 17,
   "metadata": {
    "ExecuteTime": {
     "end_time": "2021-09-20T11:05:49.021710Z",
     "start_time": "2021-09-20T11:05:48.999089Z"
    },
    "execution": {
     "iopub.execute_input": "2021-09-20T06:50:00.251690Z",
     "iopub.status.busy": "2021-09-20T06:50:00.251189Z",
     "iopub.status.idle": "2021-09-20T06:50:00.261696Z",
     "shell.execute_reply": "2021-09-20T06:50:00.259944Z",
     "shell.execute_reply.started": "2021-09-20T06:50:00.251632Z"
    }
   },
   "outputs": [],
   "source": [
    "#Tri-gram\n",
    "def get_top_n3_words(corpus, n=None):\n",
    "    vec1 = CountVectorizer(ngram_range=(3,3), \n",
    "           max_features=2000).fit(corpus)\n",
    "    bag_of_words = vec1.transform(corpus)\n",
    "    sum_words = bag_of_words.sum(axis=0) \n",
    "    words_freq = [(word, sum_words[0, idx]) for word, idx in     \n",
    "                  vec1.vocabulary_.items()]\n",
    "    words_freq =sorted(words_freq, key = lambda x: x[1], \n",
    "                reverse=True)\n",
    "    return words_freq[:n]\n"
   ]
  },
  {
   "cell_type": "code",
   "execution_count": 18,
   "metadata": {
    "ExecuteTime": {
     "end_time": "2021-09-20T11:05:52.526784Z",
     "start_time": "2021-09-20T11:05:51.918950Z"
    },
    "execution": {
     "iopub.execute_input": "2021-09-20T06:50:00.264482Z",
     "iopub.status.busy": "2021-09-20T06:50:00.263823Z",
     "iopub.status.idle": "2021-09-20T06:50:00.613763Z",
     "shell.execute_reply": "2021-09-20T06:50:00.612673Z",
     "shell.execute_reply.started": "2021-09-20T06:50:00.264412Z"
    }
   },
   "outputs": [],
   "source": [
    "top3_words = get_top_n3_words(data[\"text\"], n=200)\n",
    "top3_df = pd.DataFrame(top3_words)\n",
    "top3_df.columns=[\"Tri-gram\", \"Freq\"]"
   ]
  },
  {
   "cell_type": "code",
   "execution_count": 19,
   "metadata": {
    "ExecuteTime": {
     "end_time": "2021-09-20T11:05:53.437540Z",
     "start_time": "2021-09-20T11:05:53.407683Z"
    },
    "execution": {
     "iopub.execute_input": "2021-09-20T06:50:00.616080Z",
     "iopub.status.busy": "2021-09-20T06:50:00.615602Z",
     "iopub.status.idle": "2021-09-20T06:50:00.632415Z",
     "shell.execute_reply": "2021-09-20T06:50:00.630804Z",
     "shell.execute_reply.started": "2021-09-20T06:50:00.616029Z"
    }
   },
   "outputs": [
    {
     "data": {
      "text/html": [
       "<div>\n",
       "<style scoped>\n",
       "    .dataframe tbody tr th:only-of-type {\n",
       "        vertical-align: middle;\n",
       "    }\n",
       "\n",
       "    .dataframe tbody tr th {\n",
       "        vertical-align: top;\n",
       "    }\n",
       "\n",
       "    .dataframe thead th {\n",
       "        text-align: right;\n",
       "    }\n",
       "</style>\n",
       "<table border=\"1\" class=\"dataframe\">\n",
       "  <thead>\n",
       "    <tr style=\"text-align: right;\">\n",
       "      <th></th>\n",
       "      <th>Tri-gram</th>\n",
       "      <th>Freq</th>\n",
       "    </tr>\n",
       "  </thead>\n",
       "  <tbody>\n",
       "    <tr>\n",
       "      <th>0</th>\n",
       "      <td>ill call later</td>\n",
       "      <td>42</td>\n",
       "    </tr>\n",
       "    <tr>\n",
       "      <th>1</th>\n",
       "      <td>sorry ill call</td>\n",
       "      <td>38</td>\n",
       "    </tr>\n",
       "    <tr>\n",
       "      <th>2</th>\n",
       "      <td>prize guaranteed call</td>\n",
       "      <td>21</td>\n",
       "    </tr>\n",
       "    <tr>\n",
       "      <th>3</th>\n",
       "      <td>call land line</td>\n",
       "      <td>18</td>\n",
       "    </tr>\n",
       "    <tr>\n",
       "      <th>4</th>\n",
       "      <td>happy new year</td>\n",
       "      <td>18</td>\n",
       "    </tr>\n",
       "    <tr>\n",
       "      <th>...</th>\n",
       "      <td>...</td>\n",
       "      <td>...</td>\n",
       "    </tr>\n",
       "    <tr>\n",
       "      <th>195</th>\n",
       "      <td>said mind go</td>\n",
       "      <td>5</td>\n",
       "    </tr>\n",
       "    <tr>\n",
       "      <th>196</th>\n",
       "      <td>mind go bedroom</td>\n",
       "      <td>5</td>\n",
       "    </tr>\n",
       "    <tr>\n",
       "      <th>197</th>\n",
       "      <td>go bedroom minute</td>\n",
       "      <td>5</td>\n",
       "    </tr>\n",
       "    <tr>\n",
       "      <th>198</th>\n",
       "      <td>bedroom minute ok</td>\n",
       "      <td>5</td>\n",
       "    </tr>\n",
       "    <tr>\n",
       "      <th>199</th>\n",
       "      <td>minute ok sed</td>\n",
       "      <td>5</td>\n",
       "    </tr>\n",
       "  </tbody>\n",
       "</table>\n",
       "<p>200 rows × 2 columns</p>\n",
       "</div>"
      ],
      "text/plain": [
       "                  Tri-gram  Freq\n",
       "0           ill call later    42\n",
       "1           sorry ill call    38\n",
       "2    prize guaranteed call    21\n",
       "3           call land line    18\n",
       "4           happy new year    18\n",
       "..                     ...   ...\n",
       "195           said mind go     5\n",
       "196        mind go bedroom     5\n",
       "197      go bedroom minute     5\n",
       "198      bedroom minute ok     5\n",
       "199          minute ok sed     5\n",
       "\n",
       "[200 rows x 2 columns]"
      ]
     },
     "execution_count": 19,
     "metadata": {},
     "output_type": "execute_result"
    }
   ],
   "source": [
    "top3_df"
   ]
  },
  {
   "cell_type": "code",
   "execution_count": 20,
   "metadata": {
    "ExecuteTime": {
     "end_time": "2021-09-20T11:05:55.544864Z",
     "start_time": "2021-09-20T11:05:54.649368Z"
    },
    "execution": {
     "iopub.execute_input": "2021-09-20T06:50:00.635842Z",
     "iopub.status.busy": "2021-09-20T06:50:00.635043Z",
     "iopub.status.idle": "2021-09-20T06:50:00.953739Z",
     "shell.execute_reply": "2021-09-20T06:50:00.952832Z",
     "shell.execute_reply.started": "2021-09-20T06:50:00.635779Z"
    }
   },
   "outputs": [
    {
     "data": {
      "text/plain": [
       "[Text(0, 0, 'ill call later'),\n",
       " Text(1, 0, 'sorry ill call'),\n",
       " Text(2, 0, 'prize guaranteed call'),\n",
       " Text(3, 0, 'call land line'),\n",
       " Text(4, 0, 'happy new year'),\n",
       " Text(5, 0, 'private account statement'),\n",
       " Text(6, 0, 'guaranteed call land'),\n",
       " Text(7, 0, 'call identifier code'),\n",
       " Text(8, 0, 'land line claim'),\n",
       " Text(9, 0, 'draw shows prize'),\n",
       " Text(10, 0, 'shows prize guaranteed'),\n",
       " Text(11, 0, 'identifier code expires'),\n",
       " Text(12, 0, 'pls send message'),\n",
       " Text(13, 0, 'account statement shows'),\n",
       " Text(14, 0, 'statement shows unredeemed'),\n",
       " Text(15, 0, 'camcorder reply call'),\n",
       " Text(16, 0, 'cant pick phone'),\n",
       " Text(17, 0, 'pick phone right'),\n",
       " Text(18, 0, 'phone right pls'),\n",
       " Text(19, 0, 'right pls send')]"
      ]
     },
     "execution_count": 20,
     "metadata": {},
     "output_type": "execute_result"
    },
    {
     "data": {
      "image/png": "[encoded data removed]",
      "text/plain": [
       "<Figure size 720x360 with 1 Axes>"
      ]
     },
     "metadata": {
      "needs_background": "light"
     },
     "output_type": "display_data"
    }
   ],
   "source": [
    "#Tri-gram plot\n",
    "import seaborn as sns\n",
    "top20_trigram = top3_df.iloc[0:20,:]\n",
    "fig = plt.figure(figsize = (10, 5))\n",
    "plot=sns.barplot(x=top20_trigram[\"Tri-gram\"],y=top20_trigram[\"Freq\"])\n",
    "plot.set_xticklabels(rotation=45,labels = top20_trigram[\"Tri-gram\"])"
   ]
  },
  {
   "cell_type": "markdown",
   "metadata": {},
   "source": [
    "# WordCloud"
   ]
  },
  {
   "cell_type": "code",
   "execution_count": 21,
   "metadata": {
    "ExecuteTime": {
     "end_time": "2021-09-20T11:05:58.835372Z",
     "start_time": "2021-09-20T11:05:58.828199Z"
    },
    "execution": {
     "iopub.execute_input": "2021-09-20T06:50:00.955349Z",
     "iopub.status.busy": "2021-09-20T06:50:00.954925Z",
     "iopub.status.idle": "2021-09-20T06:50:00.960651Z",
     "shell.execute_reply": "2021-09-20T06:50:00.959839Z",
     "shell.execute_reply.started": "2021-09-20T06:50:00.955316Z"
    }
   },
   "outputs": [],
   "source": [
    "string_Total = \" \".join(data[\"text\"])"
   ]
  },
  {
   "cell_type": "code",
   "execution_count": 22,
   "metadata": {
    "ExecuteTime": {
     "end_time": "2021-09-20T11:06:16.383723Z",
     "start_time": "2021-09-20T11:05:59.934015Z"
    },
    "execution": {
     "iopub.execute_input": "2021-09-20T06:50:00.962273Z",
     "iopub.status.busy": "2021-09-20T06:50:00.961935Z",
     "iopub.status.idle": "2021-09-20T06:50:10.696262Z",
     "shell.execute_reply": "2021-09-20T06:50:10.695208Z",
     "shell.execute_reply.started": "2021-09-20T06:50:00.962233Z"
    }
   },
   "outputs": [
    {
     "data": {
      "text/plain": [
       "<matplotlib.image.AxesImage at 0x2a8ebc38730>"
      ]
     },
     "execution_count": 22,
     "metadata": {},
     "output_type": "execute_result"
    },
    {
     "data": {
      "image/png": "[encoded data removed]",
      "text/plain": [
       "<Figure size 432x288 with 1 Axes>"
      ]
     },
     "metadata": {
      "needs_background": "light"
     },
     "output_type": "display_data"
    }
   ],
   "source": [
    "#wordcloud for entire corpus\n",
    "from wordcloud import WordCloud\n",
    "wordcloud_stw = WordCloud(\n",
    "                background_color= 'black',\n",
    "                width = 1800,\n",
    "                height = 1500\n",
    "                ).generate(string_Total)\n",
    "plt.imshow(wordcloud_stw)"
   ]
  },
  {
   "cell_type": "markdown",
   "metadata": {},
   "source": [
    "# Applying naive bayes for classification"
   ]
  },
  {
   "cell_type": "code",
   "execution_count": 23,
   "metadata": {
    "ExecuteTime": {
     "end_time": "2021-09-20T11:06:19.043895Z",
     "start_time": "2021-09-20T11:06:19.027588Z"
    },
    "execution": {
     "iopub.execute_input": "2021-09-20T06:50:10.698233Z",
     "iopub.status.busy": "2021-09-20T06:50:10.697714Z",
     "iopub.status.idle": "2021-09-20T06:50:10.710983Z",
     "shell.execute_reply": "2021-09-20T06:50:10.709875Z",
     "shell.execute_reply.started": "2021-09-20T06:50:10.698180Z"
    }
   },
   "outputs": [
    {
     "data": {
      "text/html": [
       "<div>\n",
       "<style scoped>\n",
       "    .dataframe tbody tr th:only-of-type {\n",
       "        vertical-align: middle;\n",
       "    }\n",
       "\n",
       "    .dataframe tbody tr th {\n",
       "        vertical-align: top;\n",
       "    }\n",
       "\n",
       "    .dataframe thead th {\n",
       "        text-align: right;\n",
       "    }\n",
       "</style>\n",
       "<table border=\"1\" class=\"dataframe\">\n",
       "  <thead>\n",
       "    <tr style=\"text-align: right;\">\n",
       "      <th></th>\n",
       "      <th>type</th>\n",
       "      <th>text</th>\n",
       "    </tr>\n",
       "  </thead>\n",
       "  <tbody>\n",
       "    <tr>\n",
       "      <th>0</th>\n",
       "      <td>ham</td>\n",
       "      <td>hope good week checking</td>\n",
       "    </tr>\n",
       "    <tr>\n",
       "      <th>1</th>\n",
       "      <td>ham</td>\n",
       "      <td>kgive back thanks</td>\n",
       "    </tr>\n",
       "    <tr>\n",
       "      <th>2</th>\n",
       "      <td>ham</td>\n",
       "      <td>also cbe pay</td>\n",
       "    </tr>\n",
       "    <tr>\n",
       "      <th>3</th>\n",
       "      <td>spam</td>\n",
       "      <td>complimentary star ibiza holiday å£ cash needs...</td>\n",
       "    </tr>\n",
       "    <tr>\n",
       "      <th>4</th>\n",
       "      <td>spam</td>\n",
       "      <td>okmail dear dave final notice collect tenerife...</td>\n",
       "    </tr>\n",
       "  </tbody>\n",
       "</table>\n",
       "</div>"
      ],
      "text/plain": [
       "   type                                               text\n",
       "0   ham                            hope good week checking\n",
       "1   ham                                  kgive back thanks\n",
       "2   ham                                       also cbe pay\n",
       "3  spam  complimentary star ibiza holiday å£ cash needs...\n",
       "4  spam  okmail dear dave final notice collect tenerife..."
      ]
     },
     "execution_count": 23,
     "metadata": {},
     "output_type": "execute_result"
    }
   ],
   "source": [
    "data.head()"
   ]
  },
  {
   "cell_type": "code",
   "execution_count": 24,
   "metadata": {
    "ExecuteTime": {
     "end_time": "2021-09-20T11:06:20.024607Z",
     "start_time": "2021-09-20T11:06:20.013565Z"
    },
    "execution": {
     "iopub.execute_input": "2021-09-20T06:50:10.713026Z",
     "iopub.status.busy": "2021-09-20T06:50:10.712484Z",
     "iopub.status.idle": "2021-09-20T06:50:10.718375Z",
     "shell.execute_reply": "2021-09-20T06:50:10.716893Z",
     "shell.execute_reply.started": "2021-09-20T06:50:10.712976Z"
    }
   },
   "outputs": [],
   "source": [
    "def split_into_words(i):\n",
    "    return (i.split(\" \"))\n"
   ]
  },
  {
   "cell_type": "code",
   "execution_count": 25,
   "metadata": {
    "ExecuteTime": {
     "end_time": "2021-09-20T11:06:20.924600Z",
     "start_time": "2021-09-20T11:06:20.907902Z"
    },
    "execution": {
     "iopub.execute_input": "2021-09-20T06:50:10.720472Z",
     "iopub.status.busy": "2021-09-20T06:50:10.720083Z",
     "iopub.status.idle": "2021-09-20T06:50:10.736289Z",
     "shell.execute_reply": "2021-09-20T06:50:10.735158Z",
     "shell.execute_reply.started": "2021-09-20T06:50:10.720435Z"
    }
   },
   "outputs": [],
   "source": [
    "from sklearn.model_selection import train_test_split\n",
    "\n",
    "email_train,email_test = train_test_split(data,test_size=0.3)"
   ]
  },
  {
   "cell_type": "code",
   "execution_count": 26,
   "metadata": {
    "ExecuteTime": {
     "end_time": "2021-09-20T11:06:21.852972Z",
     "start_time": "2021-09-20T11:06:21.825440Z"
    },
    "execution": {
     "iopub.execute_input": "2021-09-20T06:50:10.738002Z",
     "iopub.status.busy": "2021-09-20T06:50:10.737607Z",
     "iopub.status.idle": "2021-09-20T06:50:10.761607Z",
     "shell.execute_reply": "2021-09-20T06:50:10.760251Z",
     "shell.execute_reply.started": "2021-09-20T06:50:10.737964Z"
    }
   },
   "outputs": [
    {
     "data": {
      "text/html": [
       "<div>\n",
       "<style scoped>\n",
       "    .dataframe tbody tr th:only-of-type {\n",
       "        vertical-align: middle;\n",
       "    }\n",
       "\n",
       "    .dataframe tbody tr th {\n",
       "        vertical-align: top;\n",
       "    }\n",
       "\n",
       "    .dataframe thead th {\n",
       "        text-align: right;\n",
       "    }\n",
       "</style>\n",
       "<table border=\"1\" class=\"dataframe\">\n",
       "  <thead>\n",
       "    <tr style=\"text-align: right;\">\n",
       "      <th></th>\n",
       "      <th>type</th>\n",
       "      <th>text</th>\n",
       "    </tr>\n",
       "  </thead>\n",
       "  <tbody>\n",
       "    <tr>\n",
       "      <th>439</th>\n",
       "      <td>ham</td>\n",
       "      <td>dont pick call something important tell hrishi</td>\n",
       "    </tr>\n",
       "    <tr>\n",
       "      <th>1967</th>\n",
       "      <td>ham</td>\n",
       "      <td>responding</td>\n",
       "    </tr>\n",
       "    <tr>\n",
       "      <th>258</th>\n",
       "      <td>ham</td>\n",
       "      <td>hex place talk explain</td>\n",
       "    </tr>\n",
       "    <tr>\n",
       "      <th>3582</th>\n",
       "      <td>ham</td>\n",
       "      <td>yun buying school got offer plus</td>\n",
       "    </tr>\n",
       "    <tr>\n",
       "      <th>2810</th>\n",
       "      <td>ham</td>\n",
       "      <td>frnd juz wordnot merely relationshipits silent...</td>\n",
       "    </tr>\n",
       "    <tr>\n",
       "      <th>...</th>\n",
       "      <td>...</td>\n",
       "      <td>...</td>\n",
       "    </tr>\n",
       "    <tr>\n",
       "      <th>752</th>\n",
       "      <td>ham</td>\n",
       "      <td>neft transaction reference number rs decimal c...</td>\n",
       "    </tr>\n",
       "    <tr>\n",
       "      <th>2400</th>\n",
       "      <td>ham</td>\n",
       "      <td>si take mokka players</td>\n",
       "    </tr>\n",
       "    <tr>\n",
       "      <th>1027</th>\n",
       "      <td>ham</td>\n",
       "      <td>get cash together ill text jason</td>\n",
       "    </tr>\n",
       "    <tr>\n",
       "      <th>3091</th>\n",
       "      <td>ham</td>\n",
       "      <td>youre thinking lifting one</td>\n",
       "    </tr>\n",
       "    <tr>\n",
       "      <th>3292</th>\n",
       "      <td>ham</td>\n",
       "      <td>ic lol play doors sometime yo</td>\n",
       "    </tr>\n",
       "  </tbody>\n",
       "</table>\n",
       "<p>1668 rows × 2 columns</p>\n",
       "</div>"
      ],
      "text/plain": [
       "     type                                               text\n",
       "439   ham     dont pick call something important tell hrishi\n",
       "1967  ham                                         responding\n",
       "258   ham                             hex place talk explain\n",
       "3582  ham                   yun buying school got offer plus\n",
       "2810  ham  frnd juz wordnot merely relationshipits silent...\n",
       "...   ...                                                ...\n",
       "752   ham  neft transaction reference number rs decimal c...\n",
       "2400  ham                              si take mokka players\n",
       "1027  ham                   get cash together ill text jason\n",
       "3091  ham                         youre thinking lifting one\n",
       "3292  ham                      ic lol play doors sometime yo\n",
       "\n",
       "[1668 rows x 2 columns]"
      ]
     },
     "execution_count": 26,
     "metadata": {},
     "output_type": "execute_result"
    }
   ],
   "source": [
    "email_test"
   ]
  },
  {
   "cell_type": "code",
   "execution_count": 27,
   "metadata": {
    "ExecuteTime": {
     "end_time": "2021-09-20T11:06:22.927693Z",
     "start_time": "2021-09-20T11:06:22.812688Z"
    },
    "execution": {
     "iopub.execute_input": "2021-09-20T06:50:10.763532Z",
     "iopub.status.busy": "2021-09-20T06:50:10.763125Z",
     "iopub.status.idle": "2021-09-20T06:50:10.852871Z",
     "shell.execute_reply": "2021-09-20T06:50:10.851551Z",
     "shell.execute_reply.started": "2021-09-20T06:50:10.763497Z"
    }
   },
   "outputs": [],
   "source": [
    "# Preparing email texts into word count matrix format \n",
    "emails_bow = CountVectorizer(analyzer=split_into_words).fit(data.text)\n",
    "\n",
    "# [\"mailing\",\"body\",\"texting\"]\n",
    "# [\"mailing\",\"awesome\",\"good\"]\n",
    "\n",
    "# [\"mailing\",\"body\",\"texting\",\"good\",\"awesome\"]\n",
    "\n",
    "\n",
    "\n",
    "#        \"mailing\" \"body\" \"texting\" \"good\" \"awesome\"\n",
    "#  0          1        1       1        0       0\n",
    " \n",
    "#  1          1        0        0       1       1    \n",
    "\n"
   ]
  },
  {
   "cell_type": "code",
   "execution_count": 28,
   "metadata": {
    "ExecuteTime": {
     "end_time": "2021-09-20T11:06:29.565536Z",
     "start_time": "2021-09-20T11:06:29.463731Z"
    },
    "execution": {
     "iopub.execute_input": "2021-09-20T06:50:10.854753Z",
     "iopub.status.busy": "2021-09-20T06:50:10.854415Z",
     "iopub.status.idle": "2021-09-20T06:50:10.922442Z",
     "shell.execute_reply": "2021-09-20T06:50:10.921249Z",
     "shell.execute_reply.started": "2021-09-20T06:50:10.854717Z"
    }
   },
   "outputs": [
    {
     "data": {
      "text/plain": [
       "(5559, 8175)"
      ]
     },
     "execution_count": 28,
     "metadata": {},
     "output_type": "execute_result"
    }
   ],
   "source": [
    "# For all messages\n",
    "all_emails_matrix = emails_bow.transform(data.text)\n",
    "all_emails_matrix.shape "
   ]
  },
  {
   "cell_type": "code",
   "execution_count": 29,
   "metadata": {
    "ExecuteTime": {
     "end_time": "2021-09-20T11:06:30.410323Z",
     "start_time": "2021-09-20T11:06:30.311216Z"
    },
    "execution": {
     "iopub.execute_input": "2021-09-20T06:50:10.924411Z",
     "iopub.status.busy": "2021-09-20T06:50:10.923897Z",
     "iopub.status.idle": "2021-09-20T06:50:10.994382Z",
     "shell.execute_reply": "2021-09-20T06:50:10.993532Z",
     "shell.execute_reply.started": "2021-09-20T06:50:10.924367Z"
    }
   },
   "outputs": [
    {
     "data": {
      "text/plain": [
       "(1668, 8175)"
      ]
     },
     "execution_count": 29,
     "metadata": {},
     "output_type": "execute_result"
    }
   ],
   "source": [
    "# For training messages\n",
    "train_emails_matrix = emails_bow.transform(email_train.text)\n",
    "train_emails_matrix.shape # (3891,8175)\n",
    "\n",
    "# For testing messages\n",
    "test_emails_matrix = emails_bow.transform(email_test.text)\n",
    "test_emails_matrix.shape # (1668,8175)"
   ]
  },
  {
   "cell_type": "code",
   "execution_count": 30,
   "metadata": {
    "ExecuteTime": {
     "end_time": "2021-09-20T11:06:31.557059Z",
     "start_time": "2021-09-20T11:06:31.378528Z"
    },
    "execution": {
     "iopub.execute_input": "2021-09-20T06:50:10.996574Z",
     "iopub.status.busy": "2021-09-20T06:50:10.996204Z",
     "iopub.status.idle": "2021-09-20T06:50:11.033215Z",
     "shell.execute_reply": "2021-09-20T06:50:11.032066Z",
     "shell.execute_reply.started": "2021-09-20T06:50:10.996535Z"
    }
   },
   "outputs": [],
   "source": [
    "####### Without TFIDF matrices ########################\n",
    "# Preparing a naive bayes model on training data set \n",
    "\n",
    "from sklearn.naive_bayes import MultinomialNB as MB\n",
    "from sklearn.naive_bayes import GaussianNB as GB\n",
    "\n",
    "# Multinomial Naive Bayes\n",
    "classifier_mb = MB()\n",
    "classifier_mb.fit(train_emails_matrix,email_train.type)\n",
    "train_pred_m = classifier_mb.predict(train_emails_matrix)\n",
    "accuracy_train_m = np.mean(train_pred_m==email_train.type) # 98%\n",
    "\n",
    "test_pred_m = classifier_mb.predict(test_emails_matrix)\n",
    "accuracy_test_m = np.mean(test_pred_m==email_test.type) # 96%\n",
    "\n"
   ]
  },
  {
   "cell_type": "code",
   "execution_count": 31,
   "metadata": {
    "ExecuteTime": {
     "end_time": "2021-09-20T11:06:32.506200Z",
     "start_time": "2021-09-20T11:06:32.491337Z"
    },
    "execution": {
     "iopub.execute_input": "2021-09-20T06:50:11.035275Z",
     "iopub.status.busy": "2021-09-20T06:50:11.034922Z",
     "iopub.status.idle": "2021-09-20T06:50:11.041223Z",
     "shell.execute_reply": "2021-09-20T06:50:11.039921Z",
     "shell.execute_reply.started": "2021-09-20T06:50:11.035238Z"
    }
   },
   "outputs": [
    {
     "data": {
      "text/plain": [
       "0.9886918529940889"
      ]
     },
     "execution_count": 31,
     "metadata": {},
     "output_type": "execute_result"
    }
   ],
   "source": [
    "accuracy_train_m"
   ]
  },
  {
   "cell_type": "code",
   "execution_count": 32,
   "metadata": {
    "ExecuteTime": {
     "end_time": "2021-09-20T11:06:33.484069Z",
     "start_time": "2021-09-20T11:06:33.462456Z"
    },
    "execution": {
     "iopub.execute_input": "2021-09-20T06:50:11.043234Z",
     "iopub.status.busy": "2021-09-20T06:50:11.042849Z",
     "iopub.status.idle": "2021-09-20T06:50:11.058211Z",
     "shell.execute_reply": "2021-09-20T06:50:11.056463Z",
     "shell.execute_reply.started": "2021-09-20T06:50:11.043194Z"
    }
   },
   "outputs": [
    {
     "data": {
      "text/plain": [
       "array(['ham', 'ham', 'ham', ..., 'ham', 'ham', 'ham'], dtype='<U4')"
      ]
     },
     "execution_count": 32,
     "metadata": {},
     "output_type": "execute_result"
    }
   ],
   "source": [
    "test_pred_m"
   ]
  },
  {
   "cell_type": "code",
   "execution_count": 33,
   "metadata": {
    "ExecuteTime": {
     "end_time": "2021-09-20T11:06:38.401585Z",
     "start_time": "2021-09-20T11:06:34.746925Z"
    },
    "execution": {
     "iopub.execute_input": "2021-09-20T06:50:11.062589Z",
     "iopub.status.busy": "2021-09-20T06:50:11.061238Z",
     "iopub.status.idle": "2021-09-20T06:50:13.308482Z",
     "shell.execute_reply": "2021-09-20T06:50:13.306673Z",
     "shell.execute_reply.started": "2021-09-20T06:50:11.062507Z"
    }
   },
   "outputs": [],
   "source": [
    "# Gaussian Naive Bayes \n",
    "classifier_gb = GB()\n",
    "classifier_gb.fit(train_emails_matrix.toarray(),email_train.type.values) # we need to convert tfidf into array format which is compatible for gaussian naive bayes\n",
    "train_pred_g = classifier_gb.predict(train_emails_matrix.toarray())\n",
    "accuracy_train_g = np.mean(train_pred_g==email_train.type) # 95%\n",
    "\n",
    "test_pred_g = classifier_gb.predict(test_emails_matrix.toarray())\n",
    "accuracy_test_g = np.mean(test_pred_g==email_test.type) # 80%"
   ]
  },
  {
   "cell_type": "markdown",
   "metadata": {},
   "source": [
    "# Using TFIDF"
   ]
  },
  {
   "cell_type": "code",
   "execution_count": 34,
   "metadata": {
    "ExecuteTime": {
     "end_time": "2021-09-20T11:06:42.888228Z",
     "start_time": "2021-09-20T11:06:42.850965Z"
    },
    "execution": {
     "iopub.execute_input": "2021-09-20T06:50:13.310488Z",
     "iopub.status.busy": "2021-09-20T06:50:13.310098Z",
     "iopub.status.idle": "2021-09-20T06:50:13.327782Z",
     "shell.execute_reply": "2021-09-20T06:50:13.326399Z",
     "shell.execute_reply.started": "2021-09-20T06:50:13.310448Z"
    }
   },
   "outputs": [
    {
     "data": {
      "text/plain": [
       "(1668, 8175)"
      ]
     },
     "execution_count": 34,
     "metadata": {},
     "output_type": "execute_result"
    }
   ],
   "source": [
    "from sklearn.feature_extraction.text import TfidfTransformer\n",
    "\n",
    "# Learning Term weighting and normalizing on entire emails\n",
    "tfidf_transformer = TfidfTransformer().fit(all_emails_matrix)\n",
    "\n",
    "# Preparing TFIDF for train emails\n",
    "train_tfidf = tfidf_transformer.transform(train_emails_matrix)\n",
    "\n",
    "train_tfidf.shape # (3891, 6661)\n",
    "\n",
    "# Preparing TFIDF for test emails\n",
    "test_tfidf = tfidf_transformer.transform(test_emails_matrix)\n",
    "\n",
    "test_tfidf.shape #  (1668, 6661)\n",
    "\n"
   ]
  },
  {
   "cell_type": "code",
   "execution_count": 35,
   "metadata": {
    "ExecuteTime": {
     "end_time": "2021-09-20T11:06:44.831928Z",
     "start_time": "2021-09-20T11:06:44.795571Z"
    },
    "execution": {
     "iopub.execute_input": "2021-09-20T06:50:13.329894Z",
     "iopub.status.busy": "2021-09-20T06:50:13.329513Z",
     "iopub.status.idle": "2021-09-20T06:50:13.364298Z",
     "shell.execute_reply": "2021-09-20T06:50:13.363103Z",
     "shell.execute_reply.started": "2021-09-20T06:50:13.329856Z"
    }
   },
   "outputs": [],
   "source": [
    "# Preparing a naive bayes model on training data set \n",
    "\n",
    "from sklearn.naive_bayes import MultinomialNB as MB\n",
    "from sklearn.naive_bayes import GaussianNB as GB\n",
    "\n",
    "# Multinomial Naive Bayes\n",
    "classifier_mb = MB()\n",
    "classifier_mb.fit(train_tfidf,email_train.type)\n",
    "train_pred_m = classifier_mb.predict(train_tfidf)\n",
    "accuracy_train_m = np.mean(train_pred_m==email_train.type) # 96%\n",
    "\n",
    "test_pred_m = classifier_mb.predict(test_tfidf)\n",
    "accuracy_test_m = np.mean(test_pred_m==email_test.type) # 96%\n",
    "\n",
    " \n"
   ]
  },
  {
   "cell_type": "code",
   "execution_count": 36,
   "metadata": {
    "ExecuteTime": {
     "end_time": "2021-09-20T11:06:46.206101Z",
     "start_time": "2021-09-20T11:06:46.186918Z"
    },
    "execution": {
     "iopub.execute_input": "2021-09-20T06:50:13.366667Z",
     "iopub.status.busy": "2021-09-20T06:50:13.366021Z",
     "iopub.status.idle": "2021-09-20T06:50:13.374032Z",
     "shell.execute_reply": "2021-09-20T06:50:13.372596Z",
     "shell.execute_reply.started": "2021-09-20T06:50:13.366603Z"
    }
   },
   "outputs": [
    {
     "data": {
      "text/plain": [
       "0.9719866358262658"
      ]
     },
     "execution_count": 36,
     "metadata": {},
     "output_type": "execute_result"
    }
   ],
   "source": [
    "accuracy_train_m"
   ]
  },
  {
   "cell_type": "code",
   "execution_count": 37,
   "metadata": {
    "ExecuteTime": {
     "end_time": "2021-09-20T11:06:51.118620Z",
     "start_time": "2021-09-20T11:06:47.458917Z"
    },
    "execution": {
     "iopub.execute_input": "2021-09-20T06:50:13.376007Z",
     "iopub.status.busy": "2021-09-20T06:50:13.375600Z",
     "iopub.status.idle": "2021-09-20T06:50:15.532078Z",
     "shell.execute_reply": "2021-09-20T06:50:15.530865Z",
     "shell.execute_reply.started": "2021-09-20T06:50:13.375968Z"
    }
   },
   "outputs": [],
   "source": [
    "# Gaussian Naive Bayes \n",
    "classifier_gb = GB()\n",
    "classifier_gb.fit(train_tfidf.toarray(),email_train.type.values) # we need to convert tfidf into array format which is compatible for gaussian naive bayes\n",
    "train_pred_g = classifier_gb.predict(train_tfidf.toarray())\n",
    "accuracy_train_g = np.mean(train_pred_g==email_train.type) # 95%\n",
    "test_pred_g = classifier_gb.predict(test_tfidf.toarray())\n",
    "accuracy_test_g = np.mean(test_pred_g==email_test.type) # 88%\n",
    "\n",
    "# inplace of tfidf we can also use train_emails_matrix and test_emails_matrix instead of term inverse document frequency matrix"
   ]
  },
  {
   "cell_type": "code",
   "execution_count": 38,
   "metadata": {
    "ExecuteTime": {
     "end_time": "2021-09-20T11:06:52.844608Z",
     "start_time": "2021-09-20T11:06:52.831040Z"
    },
    "execution": {
     "iopub.execute_input": "2021-09-20T06:50:15.535688Z",
     "iopub.status.busy": "2021-09-20T06:50:15.534932Z",
     "iopub.status.idle": "2021-09-20T06:50:15.543522Z",
     "shell.execute_reply": "2021-09-20T06:50:15.542291Z",
     "shell.execute_reply.started": "2021-09-20T06:50:15.535605Z"
    }
   },
   "outputs": [
    {
     "data": {
      "text/plain": [
       "0.8687050359712231"
      ]
     },
     "execution_count": 38,
     "metadata": {},
     "output_type": "execute_result"
    }
   ],
   "source": [
    "accuracy_test_g"
   ]
  },
  {
   "cell_type": "code",
   "execution_count": null,
   "metadata": {},
   "outputs": [],
   "source": []
  }
 ],
 "metadata": {
  "kernelspec": {
   "display_name": "Python 3",
   "language": "python",
   "name": "python3"
  },
  "language_info": {
   "codemirror_mode": {
    "name": "ipython",
    "version": 3
   },
   "file_extension": ".py",
   "mimetype": "text/x-python",
   "name": "python",
   "nbconvert_exporter": "python",
   "pygments_lexer": "ipython3",
   "version": "3.8.8"
  },
  "toc": {
   "base_numbering": 1,
   "nav_menu": {},
   "number_sections": true,
   "sideBar": true,
   "skip_h1_title": false,
   "title_cell": "Table of Contents",
   "title_sidebar": "Contents",
   "toc_cell": false,
   "toc_position": {},
   "toc_section_display": true,
   "toc_window_display": false
  }
 },
 "nbformat": 4,
 "nbformat_minor": 4
}
