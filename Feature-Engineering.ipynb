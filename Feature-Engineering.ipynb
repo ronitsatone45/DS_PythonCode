{
 "cells": [
  {
   "cell_type": "markdown",
   "metadata": {},
   "source": [
    "#### Univariate Feature Selection"
   ]
  },
  {
   "cell_type": "code",
   "execution_count": 2,
   "metadata": {
    "ExecuteTime": {
     "end_time": "2021-08-26T16:27:31.239827Z",
     "start_time": "2021-08-26T16:27:30.077104Z"
    },
    "execution": {
     "iopub.execute_input": "2021-08-26T06:14:39.939518Z",
     "iopub.status.busy": "2021-08-26T06:14:39.938793Z",
     "iopub.status.idle": "2021-08-26T06:14:41.243628Z",
     "shell.execute_reply": "2021-08-26T06:14:41.242346Z",
     "shell.execute_reply.started": "2021-08-26T06:14:39.939475Z"
    }
   },
   "outputs": [
    {
     "name": "stdout",
     "output_type": "stream",
     "text": [
      "[ 111.52  1411.887   17.605   53.108 2175.565  127.669    5.393  181.304]\n"
     ]
    }
   ],
   "source": [
    "# Feature Extraction with Univariate Statistical Tests (Chi-squared for classification)\n",
    "from pandas import read_csv\n",
    "from numpy import set_printoptions\n",
    "from sklearn.feature_selection import SelectKBest\n",
    "from sklearn.feature_selection import chi2\n",
    "# load data\n",
    "filename = r'C:\\Users\\Hp\\OneDrive\\Documents\\ExcelR\\Python Intro\\Feature Engineering\\pima-indians-diabetes.data.csv'\n",
    "names = ['preg', 'plas', 'pres', 'skin', 'test', 'mass', 'pedi', 'age', 'class']\n",
    "dataframe = read_csv(filename, names=names)\n",
    "array = dataframe.values\n",
    "X = array[:,0:8]\n",
    "Y = array[:,8]\n",
    "# feature extraction\n",
    "test = SelectKBest(score_func=chi2, k=4)\n",
    "fit = test.fit(X, Y)\n",
    "# summarize scores\n",
    "set_printoptions(precision=3)\n",
    "print(fit.scores_)\n",
    "features = fit.transform(X)\n",
    "\n",
    "\n",
    "#For regression: f_regression, mutual_info_regression\n",
    "#For classification: chi2, f_classif, mutual_info_classif"
   ]
  },
  {
   "cell_type": "markdown",
   "metadata": {},
   "source": [
    "#### Recursive Feature Elimination"
   ]
  },
  {
   "cell_type": "code",
   "execution_count": 3,
   "metadata": {
    "ExecuteTime": {
     "end_time": "2021-08-26T16:28:12.049934Z",
     "start_time": "2021-08-26T16:28:11.321819Z"
    },
    "execution": {
     "iopub.execute_input": "2021-08-26T06:14:41.248287Z",
     "iopub.status.busy": "2021-08-26T06:14:41.247914Z",
     "iopub.status.idle": "2021-08-26T06:14:41.455947Z",
     "shell.execute_reply": "2021-08-26T06:14:41.453078Z",
     "shell.execute_reply.started": "2021-08-26T06:14:41.248255Z"
    }
   },
   "outputs": [
    {
     "name": "stderr",
     "output_type": "stream",
     "text": [
      "C:\\Users\\Hp\\anaconda3\\lib\\site-packages\\sklearn\\utils\\validation.py:70: FutureWarning: Pass n_features_to_select=3 as keyword args. From version 1.0 (renaming of 0.25) passing these as positional arguments will result in an error\n",
      "  warnings.warn(f\"Pass {args_msg} as keyword args. From version \"\n"
     ]
    }
   ],
   "source": [
    "# Feature Extraction with RFE\n",
    "from pandas import read_csv\n",
    "from sklearn.feature_selection import RFE\n",
    "from sklearn.linear_model import LogisticRegression\n",
    "# load data\n",
    "filename = r'C:\\Users\\Hp\\OneDrive\\Documents\\ExcelR\\Python Intro\\Feature Engineering\\pima-indians-diabetes.data.csv'\n",
    "names = ['preg', 'plas', 'pres', 'skin', 'test', 'mass', 'pedi', 'age', 'class']\n",
    "dataframe = read_csv(filename, names=names)\n",
    "array = dataframe.values\n",
    "X = array[:,0:8]\n",
    "Y = array[:,8]\n",
    "# feature extraction\n",
    "model = LogisticRegression(max_iter=400)\n",
    "rfe = RFE(model, 3)\n",
    "fit = rfe.fit(X, Y)\n"
   ]
  },
  {
   "cell_type": "code",
   "execution_count": 4,
   "metadata": {
    "ExecuteTime": {
     "end_time": "2021-08-26T16:28:14.116574Z",
     "start_time": "2021-08-26T16:28:14.084529Z"
    },
    "execution": {
     "iopub.execute_input": "2021-08-26T06:14:41.457920Z",
     "iopub.status.busy": "2021-08-26T06:14:41.457590Z",
     "iopub.status.idle": "2021-08-26T06:14:41.470049Z",
     "shell.execute_reply": "2021-08-26T06:14:41.468927Z",
     "shell.execute_reply.started": "2021-08-26T06:14:41.457890Z"
    }
   },
   "outputs": [
    {
     "data": {
      "text/plain": [
       "3"
      ]
     },
     "execution_count": 4,
     "metadata": {},
     "output_type": "execute_result"
    }
   ],
   "source": [
    "#Num Features: \n",
    "fit.n_features_"
   ]
  },
  {
   "cell_type": "code",
   "execution_count": 5,
   "metadata": {
    "ExecuteTime": {
     "end_time": "2021-08-26T16:28:15.145423Z",
     "start_time": "2021-08-26T16:28:15.133056Z"
    },
    "execution": {
     "iopub.execute_input": "2021-08-26T06:14:41.472244Z",
     "iopub.status.busy": "2021-08-26T06:14:41.471763Z",
     "iopub.status.idle": "2021-08-26T06:14:41.481207Z",
     "shell.execute_reply": "2021-08-26T06:14:41.480226Z",
     "shell.execute_reply.started": "2021-08-26T06:14:41.472193Z"
    }
   },
   "outputs": [
    {
     "data": {
      "text/plain": [
       "array([ True, False, False, False, False,  True,  True, False])"
      ]
     },
     "execution_count": 5,
     "metadata": {},
     "output_type": "execute_result"
    }
   ],
   "source": [
    "#Selected Features:\n",
    "fit.support_"
   ]
  },
  {
   "cell_type": "code",
   "execution_count": 6,
   "metadata": {
    "ExecuteTime": {
     "end_time": "2021-08-26T16:28:15.865380Z",
     "start_time": "2021-08-26T16:28:15.845252Z"
    },
    "execution": {
     "iopub.execute_input": "2021-08-26T06:14:41.485521Z",
     "iopub.status.busy": "2021-08-26T06:14:41.484823Z",
     "iopub.status.idle": "2021-08-26T06:14:41.497276Z",
     "shell.execute_reply": "2021-08-26T06:14:41.495822Z",
     "shell.execute_reply.started": "2021-08-26T06:14:41.485482Z"
    }
   },
   "outputs": [
    {
     "data": {
      "text/plain": [
       "array([1, 2, 4, 6, 5, 1, 1, 3])"
      ]
     },
     "execution_count": 6,
     "metadata": {},
     "output_type": "execute_result"
    }
   ],
   "source": [
    "# Feature Ranking:\n",
    "fit.ranking_"
   ]
  },
  {
   "cell_type": "markdown",
   "metadata": {},
   "source": [
    "#### Feature Importance using Decision Tree"
   ]
  },
  {
   "cell_type": "code",
   "execution_count": 7,
   "metadata": {
    "ExecuteTime": {
     "end_time": "2021-08-26T16:28:18.022049Z",
     "start_time": "2021-08-26T16:28:17.450653Z"
    },
    "execution": {
     "iopub.execute_input": "2021-08-26T06:14:41.499617Z",
     "iopub.status.busy": "2021-08-26T06:14:41.499189Z",
     "iopub.status.idle": "2021-08-26T06:14:41.553368Z",
     "shell.execute_reply": "2021-08-26T06:14:41.552250Z",
     "shell.execute_reply.started": "2021-08-26T06:14:41.499579Z"
    }
   },
   "outputs": [
    {
     "name": "stdout",
     "output_type": "stream",
     "text": [
      "[0.049 0.321 0.094 0.014 0.045 0.232 0.127 0.118]\n"
     ]
    }
   ],
   "source": [
    "# Feature Importance with Extra Trees Classifier\n",
    "from pandas import read_csv\n",
    "from sklearn.tree import  DecisionTreeClassifier\n",
    "# load data\n",
    "filename = r'C:\\Users\\Hp\\OneDrive\\Documents\\ExcelR\\Python Intro\\Feature Engineering\\pima-indians-diabetes.data.csv'\n",
    "names = ['preg', 'plas', 'pres', 'skin', 'test', 'mass', 'pedi', 'age', 'class']\n",
    "dataframe = read_csv(filename, names=names)\n",
    "array = dataframe.values\n",
    "X = array[:,0:8]\n",
    "Y = array[:,8]\n",
    "# feature extraction\n",
    "model = DecisionTreeClassifier()\n",
    "model.fit(X, Y)\n",
    "print(model.feature_importances_)"
   ]
  },
  {
   "cell_type": "code",
   "execution_count": null,
   "metadata": {},
   "outputs": [],
   "source": []
  }
 ],
 "metadata": {
  "kernelspec": {
   "display_name": "Python 3",
   "language": "python",
   "name": "python3"
  },
  "language_info": {
   "codemirror_mode": {
    "name": "ipython",
    "version": 3
   },
   "file_extension": ".py",
   "mimetype": "text/x-python",
   "name": "python",
   "nbconvert_exporter": "python",
   "pygments_lexer": "ipython3",
   "version": "3.8.8"
  },
  "toc": {
   "base_numbering": 1,
   "nav_menu": {},
   "number_sections": true,
   "sideBar": true,
   "skip_h1_title": false,
   "title_cell": "Table of Contents",
   "title_sidebar": "Contents",
   "toc_cell": false,
   "toc_position": {},
   "toc_section_display": true,
   "toc_window_display": false
  }
 },
 "nbformat": 4,
 "nbformat_minor": 4
}
